{
 "cells": [
  {
   "cell_type": "code",
   "execution_count": 4,
   "metadata": {},
   "outputs": [
    {
     "name": "stdout",
     "output_type": "stream",
     "text": [
      "start\n",
      "CPU times: user 1.61 ms, sys: 657 µs, total: 2.27 ms\n",
      "Wall time: 3.63 ms\n"
     ]
    }
   ],
   "source": [
    "%%time\n",
    "print(\"start\")\n",
    "%run -i 'myimports.py'\n",
    "\n",
    "def coordinates(title):\n",
    "    return [40, 220, 150, 300, 183, 494] #first last pages, x coord and width, y coord and height\n",
    "\n",
    "def create_txt(title):\n",
    "    if not os.path.isfile(title+\".txt\"):\n",
    "        if os.path.isfile(title+\".pdf\"):\n",
    "            c = coordinates(title+\".pdf\")\n",
    "            convert = \"pdftotext -f %d -l %d -x %d -W %d -y %d -H %d %s.pdf\" %(c[0],c[1],c[2],c[3],c[4],c[5],title)\n",
    "            process = subprocess.Popen(convert.split(), stdout=subprocess.PIPE)\n",
    "            output, error = process.communicate()\n",
    "\n",
    "contents = [\"Introduction\",\n",
    "            \"The Negro and Language\",\n",
    "            \"The Woman of Color and the White Man\",\n",
    "            \"The Man of Color and the White Woman\",\n",
    "            \"The So-Called Dependency Complex of Colonized\",\n",
    "            \"Peoples\",\n",
    "            \"The Fact of Blackness\",\n",
    "            \"The Negro and Psychopathology\",\n",
    "            \"The Negro and Recognition\",\n",
    "            \"By Way of Conclusion\"]\n",
    "contents = [x.upper() for x in contents]"
   ]
  },
  {
   "cell_type": "code",
   "execution_count": 5,
   "metadata": {},
   "outputs": [
    {
     "name": "stdout",
     "output_type": "stream",
     "text": [
      "0 INTRODUCTION\n",
      "1 THE NEGRO AND LANGUAGE\n",
      "2 THE WOMAN OF COLOR AND THE WHITE MAN\n",
      "3 THE MAN OF COLOR AND THE WHITE WOMAN\n",
      "4 THE SO-CALLED DEPENDENCY COMPLEX OF COLONIZED\n",
      "5 PEOPLES\n",
      "6 THE FACT OF BLACKNESS\n",
      "7 THE NEGRO AND PSYCHOPATHOLOGY\n",
      "8 THE NEGRO AND RECOGNITION\n",
      "9 BY WAY OF CONCLUSION\n"
     ]
    }
   ],
   "source": [
    "# split_text = full_text.split(\"\")\n",
    "\n",
    "full_text = \"\"\n",
    "with open(\"black.txt\", \"r\") as r:\n",
    "    lines = r.readlines()\n",
    "    for line in lines:\n",
    "        full_text +=line.replace(\"\\n\", \" \")\n",
    "\n",
    "\n",
    "# os.mkdir(os.getcwd() +\"/chapters\", 0o755)\n",
    "\n",
    "for i in range(0, len(contents)):\n",
    "    t = full_text.split(contents[i])\n",
    "    print(i, contents[i])\n",
    "    with open(\"chapters/\"+str(i-1)+\"_\"+contents[i-1].replace(\" \", \"_\")+\".txt\", \"w+\") as f:\n",
    "        f.write(t[0])\n",
    "    full_text = t[1]\n",
    "# with open(\"chapters2\"+str(len(contents)-1)+\" \"+contents[-1]+\".txt\", \"w\") as f:\n",
    "#     f.write(file1.replace(\" \", \"_\"))"
   ]
  },
  {
   "cell_type": "code",
   "execution_count": null,
   "metadata": {},
   "outputs": [],
   "source": [
    " "
   ]
  }
 ],
 "metadata": {
  "kernelspec": {
   "display_name": "Python 3 (3.8)",
   "language": "python",
   "name": "python3"
  },
  "language_info": {
   "codemirror_mode": {
    "name": "ipython",
    "version": 3
   },
   "file_extension": ".py",
   "mimetype": "text/x-python",
   "name": "python",
   "nbconvert_exporter": "python",
   "pygments_lexer": "ipython3",
   "version": "3.8.2"
  }
 },
 "nbformat": 4,
 "nbformat_minor": 4
}
