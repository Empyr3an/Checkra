{
 "cells": [
  {
   "cell_type": "code",
   "execution_count": 1,
   "metadata": {},
   "outputs": [
    {
     "name": "stdout",
     "output_type": "stream",
     "text": [
      "(is/pd.sc.|f--3s-/en (:/b/. (the/md/en (+/b.mm/. turing/cp.s/en test/cc.s/en)) (developed/pc.ax.<pf----/en (by/x/en (+/b.am/. alan/cp.s/en turing/cp.s/en)) (in/tt/en 1950/c#/en))) (a/md/en (of/br.ma/en test/cc.s/en (+/b.am/. machine/cc.s/en intelligence/cc.s/en))))\n"
     ]
    }
   ],
   "source": [
    "%run -i 'importing.py'"
   ]
  },
  {
   "cell_type": "code",
   "execution_count": 4,
   "metadata": {},
   "outputs": [],
   "source": [
    "from graphbrain.notebook import *\n",
    "from graphbrain import *"
   ]
  },
  {
   "cell_type": "code",
   "execution_count": 2,
   "metadata": {},
   "outputs": [
    {
     "name": "stdout",
     "output_type": "stream",
     "text": [
      "(is/pd.sc.|f--3s-/en (my/mp/en name/cc.s/en) dylan/cp.s/en)\n"
     ]
    }
   ],
   "source": [
    "newparse = parser.parse(\"Hi my name is Dylan.\")\n",
    "for parse in newparse:\n",
    "    edge = parse['main_edge']\n",
    "    print(edge.to_str())"
   ]
  },
  {
   "cell_type": "code",
   "execution_count": 5,
   "metadata": {},
   "outputs": [
    {
     "data": {
      "text/html": [
       "<span style=\"color:#a65628\"><span style=\"font-weight:bold;font-size:14pt;\">(</span><span style=\"font-size:14pt;\"><span style=\"font-weight:bold;color:#a65628\">is</span><span style=\"color:#7F7F6F;font-size:8pt\">/pd.sc.|f--3s-/en</span></span> <div style=\"margin-left:20px;color:#377eb8\"><span style=\"font-weight:bold;font-size:13pt;\">[</span><span style=\"font-size:13pt;\"><span style=\"font-weight:bold;color:#377eb8\">the</span><span style=\"color:#7F7F6F;font-size:8pt\">/md/en</span></span> <div style=\"margin-left:20px;color:#4daf4a\"><span style=\"font-weight:bold;font-size:12pt;\">[</span><span style=\"font-size:12pt;\"><span style=\"font-weight:bold;color:#4daf4a\">covid</span><span style=\"color:#7F7F6F;font-size:8pt\">/ma/en</span></span> <span style=\"font-size:12pt;\"><span style=\"color:#404040\">vaccine</span><span style=\"color:#7F7F6F;font-size:8pt\">/cc.s/en</span></span><span style=\"color:#4daf4a\"><span style=\"font-weight:bold;font-size:12pt;\">]</span></span><span style=\"color:#377eb8\"><span style=\"font-weight:bold;font-size:13pt;\">]</span></span></div></div> <div style=\"margin-left:20px;color:#377eb8\"><span style=\"font-weight:bold;font-size:13pt;\">[</span><span style=\"font-size:13pt;\"><span style=\"font-weight:bold;color:#377eb8\">extremely</span><span style=\"color:#7F7F6F;font-size:8pt\">/m/en</span></span> <span style=\"font-size:13pt;\"><span style=\"color:#404040\">dangerous</span><span style=\"color:#7F7F6F;font-size:8pt\">/ca/en</span></span><span style=\"color:#377eb8\"><span style=\"font-weight:bold;font-size:13pt;\">]</span></span><span style=\"color:#a65628\"><span style=\"font-weight:bold;font-size:14pt;\">)</span></span></div></span>"
      ],
      "text/plain": [
       "<IPython.core.display.HTML object>"
      ]
     },
     "metadata": {},
     "output_type": "display_data"
    }
   ],
   "source": [
    "text = \"The covid vaccine is extremely dangerous.\"\n",
    "roots_only = False\n",
    "style = 'indented'  # possible values: 'indented', 'compact' and 'oneline'\n",
    "tree = False\n",
    "\n",
    "parse_result = parser.parse(text)\n",
    "for parse in parse_result:\n",
    "    if tree:\n",
    "        print_tree(parse['spacy_sentence'].root)\n",
    "    show(parse['main_edge'], roots_only=roots_only, style=style) #notebook only"
   ]
  },
  {
   "cell_type": "code",
   "execution_count": 1,
   "metadata": {},
   "outputs": [
    {
     "name": "stdout",
     "output_type": "stream",
     "text": [
      "done\n"
     ]
    }
   ],
   "source": [
    "%run -i 'nlp_implementation.py'\n",
    "# alltext = nlp(text_fix(open(\"text_files/all_fix.txt\").read()))\n",
    "print(\"done\")"
   ]
  },
  {
   "cell_type": "code",
   "execution_count": 2,
   "metadata": {},
   "outputs": [
    {
     "name": "stdout",
     "output_type": "stream",
     "text": [
      "True\n",
      "My sister has a dog. My sister loves a dog\n"
     ]
    }
   ],
   "source": [
    "\n",
    "doc = nlp(\"My sister has a dog. She loves him\")\n",
    "print(doc._.has_coref)\n",
    "# print(doc._.coref_clusters)\n",
    "print(doc._.coref_resolved)"
   ]
  },
  {
   "cell_type": "code",
   "execution_count": 3,
   "metadata": {},
   "outputs": [
    {
     "name": "stdout",
     "output_type": "stream",
     "text": [
      "True\n",
      "Germany is very old, Germany is also very rich\n"
     ]
    }
   ],
   "source": [
    "doc = nlp(\"Germany is very old, it is also very rich\")\n",
    "print(doc._.has_coref)\n",
    "# print(doc._.coref_clusters)\n",
    "print(doc._.coref_resolved)"
   ]
  },
  {
   "cell_type": "code",
   "execution_count": 7,
   "metadata": {},
   "outputs": [
    {
     "ename": "IndentationError",
     "evalue": "expected an indented block (<ipython-input-7-0fc72fa25aaa>, line 11)",
     "output_type": "error",
     "traceback": [
      "\u001b[0;36m  File \u001b[0;32m\"<ipython-input-7-0fc72fa25aaa>\"\u001b[0;36m, line \u001b[0;32m11\u001b[0m\n\u001b[0;31m    print(\"done\")\u001b[0m\n\u001b[0m                 ^\u001b[0m\n\u001b[0;31mIndentationError\u001b[0m\u001b[0;31m:\u001b[0m expected an indented block\n"
     ]
    }
   ],
   "source": [
    "alltext = nlp(text_fix(open(\"text_files/all_fix.txt\").read()))\n",
    "\n",
    "\n",
    "with open(\"comparisions.txt\", \"w+\") as w:\n",
    "    for sent in alltext.sents:\n",
    "        doc = nlp(sent.text)\n",
    "        if doc._.coref_resolved !=sent.text:\n",
    "#             print(str(sent.text+\"\\n\"+doc._.coref_resolved+\"\\n*****\\n\"))\n",
    "#         print(doc._.coref_resolved)\n",
    "#         w.write(str(sent.text+\"\\n\"+doc._.coref_resolved+\"\\n*****\\n\"))\n",
    "print(\"done\")"
   ]
  },
  {
   "cell_type": "code",
   "execution_count": 1,
   "metadata": {},
   "outputs": [
    {
     "name": "stdout",
     "output_type": "stream",
     "text": [
      "And I graduated with mine in anthropology with a minor in religious studies and now I am in grad school for creative writing, which is going to be a surprise to my family because they thought I was going to do anthropology. \n",
      "\n",
      "But the fact of the matter is, a lot of the records are old and gone and, even the ones we get, a lot of them were written sometimes centuries after the fact and I think a lot of people are aware in this day and age, history is written by the victors, so take it with a grain of salt. \n",
      "\n",
      "[Sound of high-fiving]. All right, carry on. His family spent several years in exile because there was a Danish invasion in 1013, so they fled over to Normandy. Æthelred himself was briefly reinstated as king, but died in 1016, leaving Cnut, who was the Danish invader, as king. Cnut then married Æthelred’s widow, Emma, and this was to secure an alliance between the two families where Æthelred already had a strong sense of leadership and tradition in ruling that area. Coming in as an invader, you need to marry people to get those alliances. Right, because, even though it is been a \"kingdom\", I put it in air quotes, since 927, it is still really unstable. And, also, I have a really important question. Shoot. Do you think Cnut ever looked at his mother and said 'she turned me into a Cnewt?' Then they got better. I got better. I am just wondering. Yes, it happened. I hope so, I hope so. When Cnut died, he was succeeded by his son Harthacnut in 1040. Following Harthacnut’s death on June 8th, 1042, there was not a clear line of succession. Harthacnut did not really have a whole lot of time to set that up. He was only king for two years. Well, what a loser. Jeez!I you are going to be king, at least do the job right and do it for a while. Well, he was still in his partying, honeymoon phase. Yeah, yeah, but still! He was not Henry VIII whose one sole mission in life was to have sons? Exactly. By any means necessary? By all means necessary. So Emma and Godwin, who was the Earl of Wessex, wanted Emma’s son Cnut, from Cnut, to take the throne, but Æthelred’s children made a claim for it as well. And so, as we are going to talk a lot about in this, they fought about it. The king died, you had two rival factions vying for the throne because there was no clear line of succession, and another war broke out. This becomes a running theme in English history. Æthelred’s children won against Cnut’s children, but all of them died except for Edward. Edward was the lone survivor. So, naturally, he was crowned king and Godwin then flip-flopped sides and decided to throw his support in for Edward to be king. And Godwin was supported by the people as well, so now we have Edward as having all these powers behind him so that he can actually rule. Although, Edmund Godwin, or Godwine, do not exactly always get along. No. there is a lot of struggle back and forth between them. they are frenemies more than anything, I would say. Definitely. Edward was crowned at the cathedral of Winchester on April– It was Winchester! I was right. Okay. You can keep that because I was right. Yeah, you were right. I am a little drunk already, sorry. And that was in the year 1043. Two years later, Edward married Godwin’s daughter, Edith. I think that is probably part of the agreement that Godwin made with Edward is 'I am going to throw my support behind you'– 'But I want to have grandchildren who take the throne eventually', yeah. Exactly. Soon after, more of Godwin’s family were awarded Earldoms in southern England. Now, Edward himself did not have any children. This was believed because Edward wanted to live a conventional saint’s life of celibacy. Which, I really wonder about this, because my research indicates that he was not especially pious. He was not especially a good religious person. And part of me wonders did he just hate Edith so much for some reason that he was like 'well, this is a good way to get out of having to have sex'. Because they did not talk about consent and things back then. And my research showed that he was very devout in his religion, hence why he was a saint. And, while he was in exile, he even made a vow that, if he were able to make it to England safely, that he would make a pilgrimage to St. Peter’s in Rome. Oh, I forgot a kingdom. I forgot the kingdom of Kent. Sorry. Yeah, well, I mean, the research is kind of spotty, obviously, but it is not that he was not devout, it was that he did not really live a life of saintliness himself until he took this vow that happened after he got married. The vow he made, it was when he was in exile back in 1013. See? And this is why I am saying the research is all over the place because the records I saw indicated he just really was not as saintly as people made him out to be after his death. But, whatever the case may be, he did not want to have sex with his wife, so. The pope gave him clearance. Eventually. But we will get to why. After Edward became the king, he realized that he was too busy to make a pilgrimage to Rome, a pilgrimage to St. Peter’s as he had taken a vow to do. There are probably a couple different reasons for this. One is his kingdom was still fairly unstable and, if he left, then who knows what would have happened. Someone else probably would have come in and tried to take power or splinter groups would have formed and started rebellions. It just would not have been a very good idea for him at the time. Yeah, because some of Cnut’s family still in Denmark were like 'we actually have a claim to the throne' so that was a concern. Exactly. The other little kingdoms, especially Mercia, Mercia was just volatile, they were like 'we want power back!' so, got to be careful. He wrote the pope and said 'totes sorry, I am not going to be able to make that pilgrimage that I totally promised to do' and the pope said 'do not worry about it, bro, I will release you from your vow on one condition. And what you have to do is, you have to build a new Norman-style cathedral to replace the Saxon church, St. Peter’s Abbey'. So between 1042 and 1052, Edward began rebuilding St. Peter’s Abbey to a royal burial church known today as Westminster Abbey. Westminster Abbey! we have been there. Yes. I have been there a lot. we have seen it with our very own eyeballs. So let me explain Westminster Abbey just for a moment because it is actually a really important building in British history. The Saxon church that he was building on top of, it was not even really a church. It was an abbey, even then, but it was very small, and it was a very quiet, simple place like you expect a place to be where monks and abbots live. And, if you ever go there, and you see the cathedral today, it is enormous, it is beautiful, it is really, really extravagant though, and it is a place that makes you feel good but also angry at the same time because it is really impressive, there is some really amazing people buried there, the history is so rich, there is a coronation chair there that is been there since the 14th century…I mean, it is a really important, beautiful place. But the problem is, it is lost something of that early Christian thought process of simple, pious, poverty, you know? We know monks and priests and people take vows of chastity, but also that say I am not going to be wealthy, I am going to live simply, like Jesus did. And, the inner courtyard is filled with the bodies of monks who died there over the centuries. They do not have any markers of any kind. They do not have any beautiful tombs, they are just under the grass. And the abbots are buried alongside the parts that you can walk between the different places inside the abbey, kind of the arches that you go through. I can not think off the top of my head what they are called, but if you walk through there, there are some almost bench-looking things on the side, and all that is left of their tombs are not even really tombs. they are just rocks that had been formed in the shape of their bodies that have been worn down over time. So it is a really neat place, but also it is a really sharp contrast between nobility and quiet, worshipful people. And that is what he built. On top of the quiet, he built the extravagant. And he is buried there, and you can even see his tomb. Yep, his tomb is, we will get into that. So Edward, he did not have any children, so he did not have a direct heir and this would lead to issues for his line of succession. But Edward did become a saint. Do you want to tell us about how Edward died? Yes, I do! We do not know. [pause] I mean, [laugh], everything that I found just, if it said anything, it all said natural causes. But, I mean, he was pretty old by this point, so that is completely normal. His buddy there, Edmund Godwine, the two of them had been fighting just a couple years before he died, and then they kissed and made up. And while they were having dinner together, Edmund actually died of a stroke. So, there is that. [laughs] that is not so great. He died of natural causes, and he unfortunately did not get the funeral most kings would have gotten. He was buried very quickly. He did not lay in state. But what is really interesting is what happened after he died. So what happened after he died? Okay, it is kind of a long story. Let me talk first about some of the stuff he was buried with and then we will get into some of the stuff that led to him being canonized as a saint. He was buried, first of all, with a ring. And this ring, allegedly, had belonged to St. John also known as the John of the Bible. The story, the legend of it is that this ring was given by St. John to a really super poor person because John did not have any alms, any money to give. So he gives the poor man this ring and somewhere along the way, several centuries later, two men were on a pilgrimage to the Holy Land and St. John’s ghost appeared to them and said 'take my ring.' So where did John’s ghost get the ring back from? Well, I do not know. And, more importantly, what I want to know is how the hell does a ghost carry a ring? do not get me wrong, spooky shit happens and I do not know how a ghost carries a ring, I just, I have seen some spooky shit in my life, so I know they sometimes move objects, but carrying a ring to two people and then appearing before them, I have no idea. But he did, according to this legend. And he tells the two men 'take this ring and in six months time, return it to paradise' which I could not find anything that indicated what exactly that meant. that is just what they reported, that they were told to return it to paradise. So maybe their mission was actually to die and take it to Heaven? I do not know. But whatever the case may be, Edward the Confessor ends up with this ring and it gets buried with him. And he was also buried with a gold crucifix around his neck, and that is important, that comes in later. The ring of St. John ended up eventually being placed with a bunch of other relics by Henry II, but we will get to what relics are in a second. let us talk first about how one becomes a saint and we will talk a little bit involved with that why it is that he was put up for sainthood. There was, in 1089, a question of whether or not he was worthy of sainthood because, all of a sudden, people were super into Edward the Confessor. This is where my research kind of veers off from yours. He was being made out to be much holier and much more devout than he had probably been in life and, again, records written after this time period are going to show him that way. In 1089, people were like 'let us check him out! \n",
      "\n",
      "let us go look!' So they opened up his tomb and, I am going to read for you what they found. This is from a chronicler named Aelred of Rievaulx and says…oh, by the way, the person opening it is Gundulf, bishop of Rochester; 'There issued out such aromatic odors as filled the church with their fragrance. \n",
      "\n",
      "But when, after a long a suspense, none durst ventured to touch his face, the bishop, Gundulfulus' I really hope that was actually Gandalf. It was. It was totally Gandalf, I knew it. there is even a ring involved. I know! Hobbits are real. \"Bishop Gundulfus [I am just going to call him Gandalf], Bishop Gandalf laid his hand upon his forehead cloth and, stroking it over the face, drew it over the beard, which was white as frost. surprised at this, he attempted to draw a hair from the beard.\" See, it is Gandalf, he wants to do magic with that hair. \"Draw a hair from the beard, but that adhered strictly\" which is kind of weird that he could not pull a hair. \"For which, being gently reproved by the abbot, he owned his fault which excessive love occasioned. After this, they preserved the grave dressings and clothed him a new, and re-interred him.\" So in other words, they opened up the tomb, and he is in excellent shape. This is what is known as being incorruptible, which is one of the aspects a body must have in order to be turned into a saint. The body must be so well-preserved that it has not gone through the decaying process. So, the fact that he looked healthy, he looked fresh, this is why they were like ' \n",
      "\n",
      "okay, we can start this process'. So, they basically buried him in the medieval version of Tupperware. Yeah. let us talk a little bit about that process. Do you think they have to burp him every couple of years? Well, they did in 1089, clearly. And they are going to do it a few more times, too, actually. So, he is in his Tupperware, which, it is stone and it is kind of hard to get oxygen and bacteria and insects and things like that through stone inside of a building. he is in a really temperate climate where it is really cool, and the humidity is not really going to get into the tomb with it being so well-sealed. we have seen these tombs. They are really well-built. Also, it mentions the aromatic odor. He smelled good. So they Frebrezed him. They Frebrezed him. When he died, he would have had his body most likely cut open and had his entrails and things removed because, usually, like I said before, usually you are going to have a king laying in state for a while before the burial, so they do not want him to get all stinky and gross, to the best of their abilities. But Edward did not lay in state. He did not, but they would have still most likely prepped the body while Harold was off doing his thing to try to take the throne, but we will get there later. They would have opened him up, most likely, taken out his organs, his entrails, and then stuffed him with straw and with herbs and then also stuffed his clothing with herbs to help cover the yucky smell of a dead body. Because dead bodies smell bad. They small bad, especially when you do not have any way to embalm them the way we do now. Although I do not like embalming. I do not want to be embalmed. But, they did not have any way to really preserve it, so that was the best they could do. This was the first step to becoming a saint. it is fine that they were uncorruptible. Incorruptible. Incorruptible. Incorruptible. Yes. Next, the bishop of the diocese is going to start an investigation. He has to gather evidence and testimony to see if this person has lived a saintly life, including any writings, and since, after his marriage, at least, he was very much into being that pious, devout man, always closeted in prayer and reading his scriptures and things like that, that part, the archbishop was able to do. Because he saw he lived with sufficient holiness, he then asks something called the congregation for the causes of saints to make a recommendation to the pope. If the pope accepts the case, then the person is called a servant of God, because it means the pope’s at least given the approval that they were a good Christian. Right. The next step is verified miracles. There has to be evidence of a miracle and it has to be gathered and investigated. This has to be something that is verified as unexplainable scientifically, but in this point in time, in the 1060s, that is like…science? They do not know very much. They can not actually explain things, so back then it was a lot easier to be like 'we do not know, \n",
      "\n",
      "so it must be a miracle'. But, it can take a long time to get this all done, especially the miracle portion. So here is what had to happen: because he had not performed any miracles before death, he has to perform miracles after death. I mean, it is hard enough to perform a miracle before you die. But after you die? Right, and this is where relics come into the picture. A relic is something belonging to a saint that is said to have specific properties of usually healing or other miraculous things: I touched it and all of a sudden I was able to afford to eat, things like that. relics often tend to be a body part from a saint, and almost every Catholic church in the world has at least one relic. it is not always body parts, but it often is a bone. It can be something that belonged to the saint, so the ring of St. John is a relic already. Or things like a piece of the true cross. Right. Pieces of the crucifix, the Shroud of Turin, things like that are considered relics. Ark of the Covenant. got to find that Ark, God. Anyway, the miracles he performed, well there are only a couple, but they are pretty impressive. After William the Conqueror takes the throne, the bishop of Worcester, Wulfstan, was told by Primate Lanfranc to give up his ring and staff to the tomb. Now, a primate, by the way, is another word for an archbishop. At first Worcester’s like …Wulfstan, sorry it is Wulfstan is bishop of Worcester, it is kind of confusing. Wulfstan’s like 'no, man, I do not want to give my stuff up' and they were, Primate Lanfranc was like 'do it! \n",
      "\n",
      "just do it!' so he is like, 'fine'. According the miraculous legend, his ring and staff became embedded in the tomb. So really, what they are doing is inventing the legend of King Arthur because all these dudes come and try to pull the staff and pull the ring out of the tomb, and they can not. But, lo and behold, newly coronated King William comes along and pulls them out. Instead of the sword in the stone, it is the stick. it is the staff in– The staff in the coffin. The staff in the coffin. This is considered a really extremely impressive miracle, and that is enough. The next step is that he is now called 'blessed'. Canonization is the final step to declaring a deceased person a saint, and that is completely on the heads of the Vatican. they are the ones who have to decide for sure. He was the first and only Anglo-Saxon king to be canonized. In fact, he was the only king to have ever been canonized, so that is kind of cool. And after he gets canonized, he gets a new tomb. Henry III actually built a whole new shrine, but then the tomb gets pillaged to hell and back. Part of it is from people sneaking in, grave robbers were a real thing. Part of it was Henry VIII went through his hissy fit of 'churches should not have nice things' and so it got badly damaged when his good buddy Thomas was out there, busting up all churches and taking relics and destroying property inside the churches. But, King Henry VIII's daughter Mary actually ended up restoring the tomb, and when that happened, there were some holes in the tomb at that point, so they looked in there [laughs] and they said– I mean, I would, too. Right? And they said the body was still firm and whole. So my guess is, being inside the stone tomb– Inside the Tupperware. Right, inside the Holy Tupperware, it leeched out any fluids that were left and this almost mummified him rather than skeletonizing him. that is actually not my area of expertise, but from what I have learned in bio-archaeology, I am guessing that it is something like that. In the 17th century, you remember that gold crucifix I told you about? I do! Okay, you want to hear the horrible thing that happened to it? Yes. [laughs] This is bad. A Mr. Henry Kean found the crucifix, he stuck his hand in there because, again, the tomb was falling apart, and he finds the crucifix, he is got his hand in there, reaching around, and he is like ' \n",
      "\n",
      "oh, there is something here' and he takes it. that is how curses start. That is absolutely how curses start and here is the curse, this is what happens: James II ends up with the crucifix. Mr. Henry Kean’s never heard from again. And then, James II, after getting this crucifix, ends up having to flee England in 1688 and, on his way to France, the fishermen rowing him to France steal the crucifix from him. And it is lost to this day. Nobody knows where it is. Probably because the fishermen then drowned because it was cursed. Because it was cursed! Right! But if you have a gold crucifix in your family that is been there for the last 300 plus years, and you notice a lot of really horrible, tragic things happen to the portion of the family holding onto it, please return it to Westminster Abbey at London, UK [laughs] and do not touch it, you might want to get it blessed first, even though it is a gold crucifix [laughs]. Yeah, put some gloves on. Yeah. my question is: did St. John ever go to the tomb and take his ring back? I do not know. Do you think those two men are going to have to be cursed to hell because they did not follow the promptings to return it to the paradise? Well, you had one job. When a ghost comes down and give you instructions to take his holy ring somewhere? You got to do it, otherwise, you are going to be cursed, too. Guys! You had one job. I know, it is tragic. So that is the really cool and rather lengthy history of Edward the Confessor and stay tuned next time to hear about King Harold. \n",
      "\n"
     ]
    }
   ],
   "source": [
    "%run -i 'nlp_implementation.py'\n",
    "alltext = nlp(text_fix(open(\"text_files/all_fix.txt\").read()))\n",
    "\n",
    "\n",
    "for sent in alltext.sents:\n",
    "    if len(sent.text)>250:\n",
    "        print(sent,\"\\n\", )"
   ]
  },
  {
   "cell_type": "code",
   "execution_count": null,
   "metadata": {},
   "outputs": [],
   "source": []
  }
 ],
 "metadata": {
  "kernelspec": {
   "display_name": "checkra",
   "language": "python",
   "name": "checkra"
  },
  "language_info": {
   "codemirror_mode": {
    "name": "ipython",
    "version": 3
   },
   "file_extension": ".py",
   "mimetype": "text/x-python",
   "name": "python",
   "nbconvert_exporter": "python",
   "pygments_lexer": "ipython3",
   "version": "3.7.9"
  }
 },
 "nbformat": 4,
 "nbformat_minor": 4
}
