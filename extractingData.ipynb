{
 "cells": [
  {
   "cell_type": "code",
   "execution_count": null,
   "metadata": {},
   "outputs": [],
   "source": [
    "%%time\n",
    "%run -i 'nlp_implementation.py' #imports packages and inits alltext\n",
    "pod_name = \"Lex_Fridman_Podcast1\"\n",
    "\n",
    "onlyfiles = [(text_fix(open(pod_name+\"/\"+f).read()), f) for f in listdir(pod_name) if isfile(join(pod_name, f))]#list of all podcast files\n",
    "\n",
    "doc_bin = DocBin(store_user_data=True) #docbin container for serialization\n",
    "\n",
    "docs = [] #list of docs \n",
    "print(\"start\")\n",
    "for doc, name in nlp.pipe(onlyfiles, as_tuples=True): #piping all collection of docs\n",
    "    \n",
    "    name = re.split(\"[.\\|]\",name)[:-1]\n",
    "    name=name[1:] if name[0][1:].isdigit() else name # store name of guest and topic, add to doc user data\n",
    "    \n",
    "    doc.user_data[\"host\"] = \"Lex Fridman\"\n",
    "    doc.user_data[\"guest\"]= str(name[0]).replace(\"_\",\" \")\n",
    "    doc.user_data[\"topic\"]= str(name[1]).replace(\"_\",\" \")\n",
    "    doc.user_data[\"entis\"] = [(ent.text, ent.label_) for ent in doc.ents]\n",
    "    docs.append(doc)\n",
    "    doc_bin.add(doc) #add doc to list and bin\n",
    "\n",
    "print(docs[0].user_data[\"host\"])"
   ]
  },
  {
   "cell_type": "code",
   "execution_count": null,
   "metadata": {},
   "outputs": [],
   "source": [
    "with open(\"cucumber/first_doc.bin\", \"wb\") as f: #write bytestream to disk\n",
    "    f.write(doc_bin.to_bytes())\n",
    "print(\"done\")"
   ]
  },
  {
   "cell_type": "code",
   "execution_count": null,
   "metadata": {},
   "outputs": [],
   "source": [
    "%%time ##loading in bytestreams again\n",
    "import spacy\n",
    "from spacy.tokens import DocBin\n",
    "nlp = spacy.load(\"en_core_web_lg\")\n",
    "with open(\"cucumber/all_doc.bin\", \"rb\") as w: #loading in\n",
    "    new_docs1 = DocBin(store_user_data=True).from_bytes(w.read())\n",
    "docs1 = list(new_docs1.get_docs(nlp.vocab))"
   ]
  }
 ],
 "metadata": {
  "kernelspec": {
   "display_name": "Python 3 (3.8)",
   "language": "python",
   "name": "python3"
  },
  "language_info": {
   "codemirror_mode": {
    "name": "ipython",
    "version": 3
   },
   "file_extension": ".py",
   "mimetype": "text/x-python",
   "name": "python",
   "nbconvert_exporter": "python",
   "pygments_lexer": "ipython3",
   "version": "3.8.2"
  }
 },
 "nbformat": 4,
 "nbformat_minor": 4
}
