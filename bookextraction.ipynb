{
 "cells": [
  {
   "cell_type": "code",
   "execution_count": 3,
   "metadata": {},
   "outputs": [
    {
     "name": "stdout",
     "output_type": "stream",
     "text": [
      "4 THE SO-CALLED DEPENDENCY COMPLEX OF COLONIZED.txt\n",
      "3 THE MAN OF COLOR AND THE WHITE WOMAN.txt\n",
      "1 THE NEGRO AND LANGUAGE.txt\n",
      "2 THE WOMAN OF COLOR AND THE WHITE MAN.txt\n",
      "6 THE FACT OF BLACKNESS.txt\n",
      "5 PEOPLES.txt\n",
      "temp.txt\n",
      "8 THE NEGRO AND RECOGNITION.txt\n",
      "9 BY WAY OF CONCLUSION.txt\n",
      "0 INTRODUCTION.txt\n",
      "7 THE NEGRO AND PSYCHOPATHOLOGY.txt\n",
      ".ipynb_checkpoints\n"
     ]
    }
   ],
   "source": [
    "import os\n",
    "for file in os.listdir(\"chapters\"):\n",
    "    print(file)"
   ]
  },
  {
   "cell_type": "code",
   "execution_count": null,
   "metadata": {},
   "outputs": [],
   "source": []
  }
 ],
 "metadata": {
  "kernelspec": {
   "display_name": "Python 3 (3.8)",
   "language": "python",
   "name": "python3"
  },
  "language_info": {
   "codemirror_mode": {
    "name": "ipython",
    "version": 3
   },
   "file_extension": ".py",
   "mimetype": "text/x-python",
   "name": "python",
   "nbconvert_exporter": "python",
   "pygments_lexer": "ipython3",
   "version": "3.8.2"
  }
 },
 "nbformat": 4,
 "nbformat_minor": 4
}
