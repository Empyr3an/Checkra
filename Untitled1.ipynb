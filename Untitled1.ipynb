{
 "cells": [
  {
   "cell_type": "code",
   "execution_count": 1,
   "metadata": {},
   "outputs": [
    {
     "name": "stdout",
     "output_type": "stream",
     "text": [
      "done\n"
     ]
    }
   ],
   "source": [
    "import spacy\n",
    "import neuralcoref\n",
    "nlp = spacy.load(\"en_core_web_sm\")\n",
    "neuralcoref.add_to_pipe(nlp)\n",
    "%run -i 'nlp_implementation.py'\n",
    "alltext = nlp(text_fix(open(\"text_files/all_fix.txt\").read()))\n",
    "print(\"done\")\n",
    "\n"
   ]
  },
  {
   "cell_type": "code",
   "execution_count": 6,
   "metadata": {},
   "outputs": [
    {
     "name": "stdout",
     "output_type": "stream",
     "text": [
      "done\n"
     ]
    }
   ],
   "source": [
    "with open(\"comparisions.txt\", \"w+\") as w:\n",
    "    for sent in alltext.sents:\n",
    "        doc = nlp(sent.text)\n",
    "#         print(doc._.coref_resolved)\n",
    "#         w.write(str(sent.text+\"\\n\"+doc._.coref_resolved+\"\\n*****\\n\"))\n",
    "print(\"done\")"
   ]
  },
  {
   "cell_type": "code",
   "execution_count": 2,
   "metadata": {},
   "outputs": [
    {
     "name": "stdout",
     "output_type": "stream",
     "text": [
      "False\n",
      "\n"
     ]
    }
   ],
   "source": [
    "doc = nlp(\"Germany is very old, it is also very rich\")\n",
    "print(doc._.has_coref)\n",
    "# print(doc._.coref_clusters)\n",
    "print(doc._.coref_resolved)"
   ]
  },
  {
   "cell_type": "code",
   "execution_count": 1,
   "metadata": {},
   "outputs": [
    {
     "name": "stdout",
     "output_type": "stream",
     "text": [
      "start\n",
      "done\n"
     ]
    }
   ],
   "source": [
    "print(\"start\")\n",
    "from graphbrain import *\n",
    "from graphbrain.notebook import *\n",
    "from graphbrain.parsers import *\n",
    "hg = hgraph('example.hg')\n",
    "parser = create_parser(name='en')\n",
    "print(\"done\")"
   ]
  },
  {
   "cell_type": "code",
   "execution_count": 2,
   "metadata": {},
   "outputs": [],
   "source": [
    "text = \"Mary is playing a very old violin.\"\n",
    "\n",
    "parses = parser.parse(text)\n",
    "for parse in parses:\n",
    "    edge = parse['main_edge']\n",
    "    hg.add(edge)"
   ]
  },
  {
   "cell_type": "code",
   "execution_count": 3,
   "metadata": {},
   "outputs": [
    {
     "data": {
      "text/html": [
       "<span style=\"color:#a65628\"><span style=\"font-weight:bold;font-size:11pt;\">(</span><span style=\"color:#377eb8\"><span style=\"font-weight:bold;font-size:11pt;\">(</span><span style=\"font-size:11pt;\"><span style=\"font-weight:bold;color:#377eb8\">is</span></span> <span style=\"font-size:11pt;\"><span style=\"font-weight:bold;color:#404040\">playing</span></span><span style=\"color:#377eb8\"><span style=\"font-weight:bold;font-size:11pt;\">)</span></span></span> <span style=\"font-size:11pt;\"><span style=\"color:#404040\">mary</span></span> <span style=\"color:#377eb8\"><span style=\"font-weight:bold;font-size:11pt;\">[</span><span style=\"font-size:11pt;\"><span style=\"font-weight:bold;color:#377eb8\">a</span></span> <span style=\"color:#4daf4a\"><span style=\"font-weight:bold;font-size:11pt;\">[</span><span style=\"color:#984ea3\"><span style=\"font-weight:bold;font-size:11pt;\">(</span><span style=\"font-size:11pt;\"><span style=\"font-weight:bold;color:#984ea3\">very</span></span> <span style=\"font-size:11pt;\"><span style=\"font-weight:bold;color:#404040\">old</span></span><span style=\"color:#984ea3\"><span style=\"font-weight:bold;font-size:11pt;\">)</span></span></span> <span style=\"font-size:11pt;\"><span style=\"color:#404040\">violin</span></span><span style=\"color:#4daf4a\"><span style=\"font-weight:bold;font-size:11pt;\">]</span></span><span style=\"color:#377eb8\"><span style=\"font-weight:bold;font-size:11pt;\">]</span></span><span style=\"color:#a65628\"><span style=\"font-weight:bold;font-size:11pt;\">)</span></span></span></span></span>"
      ],
      "text/plain": [
       "<IPython.core.display.HTML object>"
      ]
     },
     "metadata": {},
     "output_type": "display_data"
    },
    {
     "data": {
      "text/html": [
       "<span style=\"color:#a65628\"><span style=\"font-weight:bold;font-size:11pt;\">[</span><span style=\"color:#377eb8\"><span style=\"font-weight:bold;font-size:11pt;\">(</span><span style=\"font-size:11pt;\"><span style=\"font-weight:bold;color:#377eb8\">very</span></span> <span style=\"font-size:11pt;\"><span style=\"font-weight:bold;color:#404040\">old</span></span><span style=\"color:#377eb8\"><span style=\"font-weight:bold;font-size:11pt;\">)</span></span></span> <span style=\"font-size:11pt;\"><span style=\"color:#404040\">violin</span></span><span style=\"color:#a65628\"><span style=\"font-weight:bold;font-size:11pt;\">]</span></span></span>"
      ],
      "text/plain": [
       "<IPython.core.display.HTML object>"
      ]
     },
     "metadata": {},
     "output_type": "display_data"
    },
    {
     "data": {
      "text/html": [
       "<span style=\"color:#a65628\"><span style=\"font-weight:bold;font-size:11pt;\">[</span><span style=\"font-size:11pt;\"><span style=\"font-weight:bold;color:#a65628\">a</span></span> <span style=\"color:#377eb8\"><span style=\"font-weight:bold;font-size:11pt;\">[</span><span style=\"color:#4daf4a\"><span style=\"font-weight:bold;font-size:11pt;\">(</span><span style=\"font-size:11pt;\"><span style=\"font-weight:bold;color:#4daf4a\">very</span></span> <span style=\"font-size:11pt;\"><span style=\"font-weight:bold;color:#404040\">old</span></span><span style=\"color:#4daf4a\"><span style=\"font-weight:bold;font-size:11pt;\">)</span></span></span> <span style=\"font-size:11pt;\"><span style=\"color:#404040\">violin</span></span><span style=\"color:#377eb8\"><span style=\"font-weight:bold;font-size:11pt;\">]</span></span><span style=\"color:#a65628\"><span style=\"font-weight:bold;font-size:11pt;\">]</span></span></span></span>"
      ],
      "text/plain": [
       "<IPython.core.display.HTML object>"
      ]
     },
     "metadata": {},
     "output_type": "display_data"
    },
    {
     "data": {
      "text/html": [
       "<span style=\"color:#a65628\"><span style=\"font-weight:bold;font-size:11pt;\">(</span><span style=\"font-size:11pt;\"><span style=\"font-weight:bold;color:#a65628\">is</span></span> <span style=\"font-size:11pt;\"><span style=\"color:#404040\">playing</span></span><span style=\"color:#a65628\"><span style=\"font-weight:bold;font-size:11pt;\">)</span></span></span>"
      ],
      "text/plain": [
       "<IPython.core.display.HTML object>"
      ]
     },
     "metadata": {},
     "output_type": "display_data"
    },
    {
     "data": {
      "text/html": [
       "<span style=\"color:#a65628\"><span style=\"font-weight:bold;font-size:11pt;\">(</span><span style=\"font-size:11pt;\"><span style=\"font-weight:bold;color:#a65628\">very</span></span> <span style=\"font-size:11pt;\"><span style=\"color:#404040\">old</span></span><span style=\"color:#a65628\"><span style=\"font-weight:bold;font-size:11pt;\">)</span></span></span>"
      ],
      "text/plain": [
       "<IPython.core.display.HTML object>"
      ]
     },
     "metadata": {},
     "output_type": "display_data"
    },
    {
     "data": {
      "text/html": [
       "<span style=\"font-size:11pt;\"><span style=\"color:#000\">a</span></span>"
      ],
      "text/plain": [
       "<IPython.core.display.HTML object>"
      ]
     },
     "metadata": {},
     "output_type": "display_data"
    },
    {
     "data": {
      "text/html": [
       "<span style=\"font-size:11pt;\"><span style=\"color:#000\">is</span></span>"
      ],
      "text/plain": [
       "<IPython.core.display.HTML object>"
      ]
     },
     "metadata": {},
     "output_type": "display_data"
    },
    {
     "data": {
      "text/html": [
       "<span style=\"font-size:11pt;\"><span style=\"color:#000\">mary</span></span>"
      ],
      "text/plain": [
       "<IPython.core.display.HTML object>"
      ]
     },
     "metadata": {},
     "output_type": "display_data"
    },
    {
     "data": {
      "text/html": [
       "<span style=\"font-size:11pt;\"><span style=\"color:#000\">old</span></span>"
      ],
      "text/plain": [
       "<IPython.core.display.HTML object>"
      ]
     },
     "metadata": {},
     "output_type": "display_data"
    },
    {
     "data": {
      "text/html": [
       "<span style=\"font-size:11pt;\"><span style=\"color:#000\">playing</span></span>"
      ],
      "text/plain": [
       "<IPython.core.display.HTML object>"
      ]
     },
     "metadata": {},
     "output_type": "display_data"
    },
    {
     "data": {
      "text/html": [
       "<span style=\"font-size:11pt;\"><span style=\"color:#000\">very</span></span>"
      ],
      "text/plain": [
       "<IPython.core.display.HTML object>"
      ]
     },
     "metadata": {},
     "output_type": "display_data"
    },
    {
     "data": {
      "text/html": [
       "<span style=\"font-size:11pt;\"><span style=\"color:#000\">violin</span></span>"
      ],
      "text/plain": [
       "<IPython.core.display.HTML object>"
      ]
     },
     "metadata": {},
     "output_type": "display_data"
    }
   ],
   "source": [
    "for edge in hg.all():\n",
    "    show(edge, style='oneline')hg.add(edge)"
   ]
  },
  {
   "cell_type": "code",
   "execution_count": 9,
   "metadata": {},
   "outputs": [
    {
     "name": "stdout",
     "output_type": "stream",
     "text": [
      "(of/br.ma/en capital/cc.s/en (northern/ma/en germany/cp.s/en))\n",
      "(was/pd.scx.<f-----/en berlin/cp.s/en nice/ca/en (in/tt/en 1976/c#/en))\n",
      "(beautiful/ma/en woman/cc.s/en)\n"
     ]
    }
   ],
   "source": [
    "text = \"capital of northern Germany. berlin was nice in 1976. beautiful woman.\"\n",
    "parses = parser.parse(text)\n",
    "for parse in parses:\n",
    "    print(parse['main_edge'])"
   ]
  },
  {
   "cell_type": "code",
   "execution_count": 10,
   "metadata": {},
   "outputs": [
    {
     "ename": "AttributeError",
     "evalue": "'ParserEN' object has no attribute '_resolve_corefs'",
     "output_type": "error",
     "traceback": [
      "\u001b[0;31m---------------------------------------------------------------------------\u001b[0m",
      "\u001b[0;31mAttributeError\u001b[0m                            Traceback (most recent call last)",
      "\u001b[0;32m<ipython-input-10-79ffddd3c45e>\u001b[0m in \u001b[0;36m<module>\u001b[0;34m\u001b[0m\n\u001b[0;32m----> 1\u001b[0;31m \u001b[0mresol\u001b[0m \u001b[0;34m=\u001b[0m \u001b[0mparser\u001b[0m\u001b[0;34m.\u001b[0m\u001b[0m_resolve_corefs\u001b[0m\u001b[0;34m(\u001b[0m\u001b[0mparses\u001b[0m\u001b[0;34m)\u001b[0m\u001b[0;34m\u001b[0m\u001b[0;34m\u001b[0m\u001b[0m\n\u001b[0m",
      "\u001b[0;31mAttributeError\u001b[0m: 'ParserEN' object has no attribute '_resolve_corefs'"
     ]
    }
   ],
   "source": [
    "(is/pd.sc.|f--3s-/en berlin/cp.s/en nice/ca/en)\n",
    "(was/pd.sc.<f-----/en berlin/cp.s/en nice/ca/en)\n",
    "(was/pd.scx.<f-----/en berlin/cp.s/en nice/ca/en (in/tt/en 1976/c#/en))\n",
    "\n",
    "resol = parser._resolve_corefs(parses)"
   ]
  },
  {
   "cell_type": "code",
   "execution_count": 1,
   "metadata": {},
   "outputs": [
    {
     "name": "stdout",
     "output_type": "stream",
     "text": [
      "done\n"
     ]
    }
   ],
   "source": [
    "\n",
    "from graphbrain import *\n",
    "from graphbrain.notebook import *\n",
    "from graphbrain.parsers import *\n",
    "hg = hgraph('example.hg')\n",
    "parser = create_parser(name='en')\n",
    "print(\"done\")"
   ]
  },
  {
   "cell_type": "code",
   "execution_count": 4,
   "metadata": {},
   "outputs": [],
   "source": [
    "parses = parser.parse(text_fix(open(\"text_files/mini.txt\").read()))\n",
    "for parse in parses:\n",
    "    edge = parse['main_edge']\n",
    "#     hg.add(edge)\n"
   ]
  },
  {
   "cell_type": "code",
   "execution_count": 8,
   "metadata": {},
   "outputs": [
    {
     "name": "stdout",
     "output_type": "stream",
     "text": [
      "((also/a/en spent/pd.ssox.<f-----/en) (of/br.ma/en most/ca/en (the/md/en kings/cc.p/en)) they/ci/en (of/br.ma/en most/ca/en (their/mp/en time/cc.s/en)) (in/t/en (and/b+/en wessex/cp.s/en essex/cp.s/en))) \n",
      "\n",
      "((am/av.|f-----/en forgetting/pd.so.|pg----/en) i/ci/en one/c#/en) \n",
      "\n",
      "((am/av.|f-----/en going/pr.sr.|pg----/en) i/ci/en ((to/ai/en be/pc.c.-i-----/en) (:/b/. able/ca/en ((to/ai/en remember/pc.o.-i-----/en) (of/br.ma/en all/cd/en them/ci/en))))) \n",
      "\n",
      "((are/av.|f-----/en about/tt/en) person/cc.s/en we/ci/en (talking/pr.x.|pg----/en tonight/cc.s/en)) \n",
      "\n",
      "((did/av.<f-----/en (not/an/en (always/a/en agree/pd.sx.-i-----/en))) people/cc.p/en (with/t/en ((should/am/en be/pc.sc.-i-----/en) who/cw/en king/cc.s/en))) \n",
      "\n",
      "((do/av.|f-----/en (not/an/en know/pd.sr.-i-----/en)) i/ci/en (if/x/en ((am/av.|f-----/en going/pr.sr.|pg----/en) i/ci/en ((to/ai/en be/pc.c.-i-----/en) (:/b/. able/ca/en ((to/ai/en remember/pc.o.-i-----/en) (of/br.ma/en all/cd/en them/ci/en))))))) \n",
      "\n",
      "((in/t/en (the/md/en wessex/cp.s/en)) (+/b.mm/. into/c/en (the/md/en (+/b.am/. essex/cp.s/en area/cc.s/en)))) \n",
      "\n",
      "((should/am/en be/pc.sc.-i-----/en) who/cw/en king/cc.s/en) \n",
      "\n",
      "((there/ae/en still/t/en) (and/pm/en (was/pd.c.<f-----/en (a/md/en (and/b+/en (of/br.ma/en lot/cc.s/en fighting/cc.s/en) (a/md/en (of/br.ma/en (of/br.ma/en lot/cc.s/en fighting/cc.s/en) arguing/cc.s/en))))) ((did/av.<f-----/en (not/an/en (always/a/en agree/pd.sx.-i-----/en))) people/cc.p/en (with/t/en ((should/am/en be/pc.sc.-i-----/en) who/cw/en king/cc.s/en))))) \n",
      "\n",
      "((to/ai/en be/pc.c.-i-----/en) (:/b/. able/ca/en ((to/ai/en remember/pc.o.-i-----/en) (of/br.ma/en all/cd/en them/ci/en)))) \n",
      "\n",
      "((to/ai/en remember/pc.o.-i-----/en) (of/br.ma/en all/cd/en them/ci/en)) \n",
      "\n",
      "((were/av.<f-----/en in/t/en) kingdoms/cc.p/en they/ci/en living/pr..|pg----/en) \n",
      "\n",
      "(+/b.am/. east/cp.s/en anglia/cp.s/en) \n",
      "\n",
      "(+/b.am/. essex/cp.s/en area/cc.s/en) \n",
      "\n",
      "(+/b.am/. saxon/ca/en kingdoms/cc.p/en) \n",
      "\n",
      "(+/b.am/. welsh/cp.s/en kingdoms/cp.p/en) \n",
      "\n",
      "(+/b.mm/. (+/b.am/. east/cp.s/en anglia/cp.s/en) (+/b.mm/. mercia/cp.s/en (+/b.mm/. strathclyde/cp.s/en (+/b.mm/. northumbria/cp.s/en (then/m/en (the/md/en (+/b.am/. welsh/cp.s/en kingdoms/cp.p/en))))))) \n",
      "\n",
      "(+/b.mm/. essex/cp.s/en (+/b.mm/. (+/b.am/. east/cp.s/en anglia/cp.s/en) (+/b.mm/. mercia/cp.s/en (+/b.mm/. strathclyde/cp.s/en (+/b.mm/. northumbria/cp.s/en (then/m/en (the/md/en (+/b.am/. welsh/cp.s/en kingdoms/cp.p/en)))))))) \n",
      "\n",
      "(+/b.mm/. into/c/en (the/md/en (+/b.am/. essex/cp.s/en area/cc.s/en))) \n",
      "\n",
      "(+/b.mm/. mercia/cp.s/en (+/b.mm/. strathclyde/cp.s/en (+/b.mm/. northumbria/cp.s/en (then/m/en (the/md/en (+/b.am/. welsh/cp.s/en kingdoms/cp.p/en)))))) \n",
      "\n",
      "(+/b.mm/. northumbria/cp.s/en (then/m/en (the/md/en (+/b.am/. welsh/cp.s/en kingdoms/cp.p/en)))) \n",
      "\n",
      "(+/b.mm/. strathclyde/cp.s/en (+/b.mm/. northumbria/cp.s/en (then/m/en (the/md/en (+/b.am/. welsh/cp.s/en kingdoms/cp.p/en))))) \n",
      "\n",
      "(7/m#/en (different/ma/en (anglo/ma/en (+/b.am/. saxon/ca/en kingdoms/cc.p/en)))) \n",
      "\n",
      "(:/b/. (a/md/en (of/br.ma/en lot/cc.s/en people/cc.p/en)) (were/pr.scx.<f-----/en who/cw/en (very/m/en autonomous/ca/en) (in/t/en (the/md/en ((were/av.<f-----/en in/t/en) kingdoms/cc.p/en they/ci/en living/pr..|pg----/en))))) \n",
      "\n",
      "(:/b/. able/ca/en ((to/ai/en remember/pc.o.-i-----/en) (of/br.ma/en all/cd/en them/ci/en))) \n",
      "\n",
      "(a/md/en (and/b+/en (of/br.ma/en lot/cc.s/en fighting/cc.s/en) (a/md/en (of/br.ma/en (of/br.ma/en lot/cc.s/en fighting/cc.s/en) arguing/cc.s/en)))) \n",
      "\n",
      "(a/md/en (of/br.ma/en (of/br.ma/en lot/cc.s/en fighting/cc.s/en) arguing/cc.s/en)) \n",
      "\n",
      "(a/md/en (of/br.ma/en lot/cc.s/en people/cc.p/en)) \n",
      "\n",
      "(a/md/en kingdom/cc.s/en) \n",
      "\n",
      "(a/md/en thing/cc.s/en) \n",
      "\n",
      "(also/a/en spent/pd.ssox.<f-----/en) \n",
      "\n",
      "(although/x/en (technically/t/en he/ci/en (ruled/pd.o.<f-----/en (the/md/en (seven/m#/en kingdoms/cc.p/en))))) \n",
      "\n",
      "(always/a/en agree/pd.sx.-i-----/en) \n",
      "\n",
      "(am/av.|f-----/en forgetting/pd.so.|pg----/en) \n",
      "\n",
      "(am/av.|f-----/en going/pr.sr.|pg----/en) \n",
      "\n",
      "(am/pd.s.|f-----/en i/ci/en) \n",
      "\n",
      "(and/b+/en (of/br.ma/en lot/cc.s/en fighting/cc.s/en) (a/md/en (of/br.ma/en (of/br.ma/en lot/cc.s/en fighting/cc.s/en) arguing/cc.s/en))) \n",
      "\n",
      "(and/b+/en wessex/cp.s/en (+/b.mm/. essex/cp.s/en (+/b.mm/. (+/b.am/. east/cp.s/en anglia/cp.s/en) (+/b.mm/. mercia/cp.s/en (+/b.mm/. strathclyde/cp.s/en (+/b.mm/. northumbria/cp.s/en (then/m/en (the/md/en (+/b.am/. welsh/cp.s/en kingdoms/cp.p/en))))))))) \n",
      "\n",
      "(and/b+/en wessex/cp.s/en essex/cp.s/en) \n",
      "\n",
      "(and/m+/en ((in/t/en (the/md/en wessex/cp.s/en)) (+/b.mm/. into/c/en (the/md/en (+/b.am/. essex/cp.s/en area/cc.s/en))))) \n",
      "\n",
      "(and/pm/en (was/pd.c.<f-----/en (a/md/en (and/b+/en (of/br.ma/en lot/cc.s/en fighting/cc.s/en) (a/md/en (of/br.ma/en (of/br.ma/en lot/cc.s/en fighting/cc.s/en) arguing/cc.s/en))))) ((did/av.<f-----/en (not/an/en (always/a/en agree/pd.sx.-i-----/en))) people/cc.p/en (with/t/en ((should/am/en be/pc.sc.-i-----/en) who/cw/en king/cc.s/en)))) \n",
      "\n",
      "(and/pm/en am/pd..|f-----/en i/ci/en (really/m/en embarrassed/ca/en) (if/x/en (am/pd.s.|f-----/en i/ci/en))) \n",
      "\n",
      "(anglo/ma/en (+/b.am/. saxon/ca/en kingdoms/cc.p/en)) \n",
      "\n",
      "(are/av.|f-----/en about/tt/en) \n",
      "\n",
      "(as/t/en (a/md/en kingdom/cc.s/en)) \n",
      "\n",
      "(became/pd.xsxc.<f-----/en (in/t/en 927/c#/en) england/cp.s/en (as/t/en (a/md/en kingdom/cc.s/en)) (a/md/en thing/cc.s/en)) \n",
      "\n",
      "(because/x/en ((there/ae/en still/t/en) (and/pm/en (was/pd.c.<f-----/en (a/md/en (and/b+/en (of/br.ma/en lot/cc.s/en fighting/cc.s/en) (a/md/en (of/br.ma/en (of/br.ma/en lot/cc.s/en fighting/cc.s/en) arguing/cc.s/en))))) ((did/av.<f-----/en (not/an/en (always/a/en agree/pd.sx.-i-----/en))) people/cc.p/en (with/t/en ((should/am/en be/pc.sc.-i-----/en) who/cw/en king/cc.s/en)))))) \n",
      "\n",
      "(but/pm/en ((do/av.|f-----/en (not/an/en know/pd.sr.-i-----/en)) i/ci/en (if/x/en ((am/av.|f-----/en going/pr.sr.|pg----/en) i/ci/en ((to/ai/en be/pc.c.-i-----/en) (:/b/. able/ca/en ((to/ai/en remember/pc.o.-i-----/en) (of/br.ma/en all/cd/en them/ci/en))))))) (have/pd.so.|f-----/en you/ci/en (and/b+/en wessex/cp.s/en (+/b.mm/. essex/cp.s/en (+/b.mm/. (+/b.am/. east/cp.s/en anglia/cp.s/en) (+/b.mm/. mercia/cp.s/en (+/b.mm/. strathclyde/cp.s/en (+/b.mm/. northumbria/cp.s/en (then/m/en (the/md/en (+/b.am/. welsh/cp.s/en kingdoms/cp.p/en))))))))))) \n",
      "\n",
      "(but/pm/en (obviously/a/en (would/am/en do/pd..-i-----/en)) (mean/pd.s.|f-----/en i/ci/en) they/ci/en stuff/cc.s/en (in/t/en (other/ma/en places/cc.p/en)) (because/x/en ((there/ae/en still/t/en) (and/pm/en (was/pd.c.<f-----/en (a/md/en (and/b+/en (of/br.ma/en lot/cc.s/en fighting/cc.s/en) (a/md/en (of/br.ma/en (of/br.ma/en lot/cc.s/en fighting/cc.s/en) arguing/cc.s/en))))) ((did/av.<f-----/en (not/an/en (always/a/en agree/pd.sx.-i-----/en))) people/cc.p/en (with/t/en ((should/am/en be/pc.sc.-i-----/en) who/cw/en king/cc.s/en))))))) \n",
      "\n",
      "(but/pm/en (there/ae/en (still/a/en were/pd..<f-----/en)) (the/md/en ((are/av.|f-----/en about/tt/en) person/cc.s/en we/ci/en (talking/pr.x.|pg----/en tonight/cc.s/en))) (although/x/en (technically/t/en he/ci/en (ruled/pd.o.<f-----/en (the/md/en (seven/m#/en kingdoms/cc.p/en))))) (:/b/. (a/md/en (of/br.ma/en lot/cc.s/en people/cc.p/en)) (were/pr.scx.<f-----/en who/cw/en (very/m/en autonomous/ca/en) (in/t/en (the/md/en ((were/av.<f-----/en in/t/en) kingdoms/cc.p/en they/ci/en living/pr..|pg----/en)))))) \n",
      "\n",
      "(did/av.<f-----/en (not/an/en (always/a/en agree/pd.sx.-i-----/en))) \n",
      "\n",
      "(different/ma/en (anglo/ma/en (+/b.am/. saxon/ca/en kingdoms/cc.p/en))) \n",
      "\n",
      "(do/av.|f-----/en (not/an/en know/pd.sr.-i-----/en)) \n",
      "\n",
      "(feel/pd.sx.|f-----/en i/ci/en (like/x/en ((am/av.|f-----/en forgetting/pd.so.|pg----/en) i/ci/en one/c#/en))) \n",
      "\n",
      "(had/pd.xso.<f-----/en (up/t/en (until/mr/en (that/md/en point/cc.s/en))) you/ci/en (7/m#/en (different/ma/en (anglo/ma/en (+/b.am/. saxon/ca/en kingdoms/cc.p/en))))) \n",
      "\n",
      "(happened/pd.sx.<f-----/en (the/md/en (of/br.ma/en majority/cc.s/en (his/mp/en reign/cc.s/en))) (and/m+/en ((in/t/en (the/md/en wessex/cp.s/en)) (+/b.mm/. into/c/en (the/md/en (+/b.am/. essex/cp.s/en area/cc.s/en)))))) \n",
      "\n",
      "(have/pd.so.|f-----/en you/ci/en (and/b+/en wessex/cp.s/en (+/b.mm/. essex/cp.s/en (+/b.mm/. (+/b.am/. east/cp.s/en anglia/cp.s/en) (+/b.mm/. mercia/cp.s/en (+/b.mm/. strathclyde/cp.s/en (+/b.mm/. northumbria/cp.s/en (then/m/en (the/md/en (+/b.am/. welsh/cp.s/en kingdoms/cp.p/en)))))))))) \n",
      "\n",
      "(his/mp/en reign/cc.s/en) \n",
      "\n",
      "(if/x/en ((am/av.|f-----/en going/pr.sr.|pg----/en) i/ci/en ((to/ai/en be/pc.c.-i-----/en) (:/b/. able/ca/en ((to/ai/en remember/pc.o.-i-----/en) (of/br.ma/en all/cd/en them/ci/en)))))) \n",
      "\n",
      "(if/x/en (am/pd.s.|f-----/en i/ci/en)) \n",
      "\n",
      "(in/t/en (and/b+/en wessex/cp.s/en essex/cp.s/en)) \n",
      "\n",
      "(in/t/en (other/ma/en places/cc.p/en)) \n",
      "\n",
      "(in/t/en (the/md/en ((were/av.<f-----/en in/t/en) kingdoms/cc.p/en they/ci/en living/pr..|pg----/en))) \n",
      "\n",
      "(in/t/en (the/md/en wessex/cp.s/en)) \n",
      "\n",
      "(in/t/en 927/c#/en) \n",
      "\n",
      "(like/x/en ((am/av.|f-----/en forgetting/pd.so.|pg----/en) i/ci/en one/c#/en)) \n",
      "\n",
      "(mean/pd.s.|f-----/en i/ci/en) \n",
      "\n",
      "(not/an/en (always/a/en agree/pd.sx.-i-----/en)) \n",
      "\n",
      "(not/an/en know/pd.sr.-i-----/en) \n",
      "\n",
      "(obviously/a/en (would/am/en do/pd..-i-----/en)) \n",
      "\n",
      "(of/br.ma/en (of/br.ma/en lot/cc.s/en fighting/cc.s/en) arguing/cc.s/en) \n",
      "\n",
      "(of/br.ma/en all/cd/en them/ci/en) \n",
      "\n",
      "(of/br.ma/en lot/cc.s/en fighting/cc.s/en) \n",
      "\n",
      "(of/br.ma/en lot/cc.s/en people/cc.p/en) \n",
      "\n",
      "(of/br.ma/en majority/cc.s/en (his/mp/en reign/cc.s/en)) \n",
      "\n",
      "(of/br.ma/en most/ca/en (the/md/en kings/cc.p/en)) \n",
      "\n",
      "(of/br.ma/en most/ca/en (their/mp/en time/cc.s/en)) \n",
      "\n",
      "(other/ma/en places/cc.p/en) \n",
      "\n",
      "(really/m/en embarrassed/ca/en) \n",
      "\n",
      "(ruled/pd.o.<f-----/en (the/md/en (seven/m#/en kingdoms/cc.p/en))) \n",
      "\n",
      "(seven/m#/en kingdoms/cc.p/en) \n",
      "\n",
      "(should/am/en be/pc.sc.-i-----/en) \n",
      "\n",
      "(still/a/en were/pd..<f-----/en) \n",
      "\n",
      "(talking/pr.x.|pg----/en tonight/cc.s/en) \n",
      "\n",
      "(technically/t/en he/ci/en (ruled/pd.o.<f-----/en (the/md/en (seven/m#/en kingdoms/cc.p/en)))) \n",
      "\n",
      "(that/md/en point/cc.s/en) \n",
      "\n",
      "(the/md/en ((are/av.|f-----/en about/tt/en) person/cc.s/en we/ci/en (talking/pr.x.|pg----/en tonight/cc.s/en))) \n",
      "\n",
      "(the/md/en ((were/av.<f-----/en in/t/en) kingdoms/cc.p/en they/ci/en living/pr..|pg----/en)) \n",
      "\n",
      "(the/md/en (+/b.am/. essex/cp.s/en area/cc.s/en)) \n",
      "\n",
      "(the/md/en (+/b.am/. welsh/cp.s/en kingdoms/cp.p/en)) \n",
      "\n",
      "(the/md/en (of/br.ma/en majority/cc.s/en (his/mp/en reign/cc.s/en))) \n",
      "\n",
      "(the/md/en (seven/m#/en kingdoms/cc.p/en)) \n",
      "\n",
      "(the/md/en kings/cc.p/en) \n",
      "\n",
      "(the/md/en wessex/cp.s/en) \n",
      "\n",
      "(their/mp/en time/cc.s/en) \n",
      "\n",
      "(then/m/en (the/md/en (+/b.am/. welsh/cp.s/en kingdoms/cp.p/en))) \n",
      "\n",
      "(there/ae/en (still/a/en were/pd..<f-----/en)) \n",
      "\n",
      "(there/ae/en still/t/en) \n",
      "\n",
      "(to/ai/en be/pc.c.-i-----/en) \n",
      "\n",
      "(to/ai/en remember/pc.o.-i-----/en) \n",
      "\n",
      "(until/mr/en (that/md/en point/cc.s/en)) \n",
      "\n",
      "(up/t/en (until/mr/en (that/md/en point/cc.s/en))) \n",
      "\n",
      "(very/m/en autonomous/ca/en) \n",
      "\n",
      "(was/pd.c.<f-----/en (a/md/en (and/b+/en (of/br.ma/en lot/cc.s/en fighting/cc.s/en) (a/md/en (of/br.ma/en (of/br.ma/en lot/cc.s/en fighting/cc.s/en) arguing/cc.s/en))))) \n",
      "\n",
      "(were/av.<f-----/en in/t/en) \n",
      "\n",
      "(were/pr.scx.<f-----/en who/cw/en (very/m/en autonomous/ca/en) (in/t/en (the/md/en ((were/av.<f-----/en in/t/en) kingdoms/cc.p/en they/ci/en living/pr..|pg----/en)))) \n",
      "\n",
      "(with/t/en ((should/am/en be/pc.sc.-i-----/en) who/cw/en king/cc.s/en)) \n",
      "\n",
      "(would/am/en do/pd..-i-----/en) \n",
      "\n",
      "+/b.am/. \n",
      "\n",
      "+/b.mm/. \n",
      "\n",
      "7/m#/en \n",
      "\n",
      "927/c#/en \n",
      "\n",
      ":/b/. \n",
      "\n",
      "a/md/en \n",
      "\n",
      "able/ca/en \n",
      "\n",
      "about/tt/en \n",
      "\n",
      "agree/pd.sx.-i-----/en \n",
      "\n",
      "all/cd/en \n",
      "\n",
      "also/a/en \n",
      "\n",
      "although/x/en \n",
      "\n",
      "always/a/en \n",
      "\n",
      "am/av.|f-----/en \n",
      "\n",
      "am/pd..|f-----/en \n",
      "\n",
      "am/pd.s.|f-----/en \n",
      "\n",
      "and/b+/en \n",
      "\n",
      "and/m+/en \n",
      "\n",
      "and/pm/en \n",
      "\n",
      "anglia/cp.s/en \n",
      "\n",
      "anglo/ma/en \n",
      "\n",
      "are/av.|f-----/en \n",
      "\n",
      "area/cc.s/en \n",
      "\n",
      "arguing/cc.s/en \n",
      "\n",
      "as/t/en \n",
      "\n",
      "autonomous/ca/en \n",
      "\n",
      "be/pc.c.-i-----/en \n",
      "\n",
      "be/pc.sc.-i-----/en \n",
      "\n",
      "became/pd.xsxc.<f-----/en \n",
      "\n",
      "because/x/en \n",
      "\n",
      "but/pm/en \n",
      "\n",
      "did/av.<f-----/en \n",
      "\n",
      "different/ma/en \n",
      "\n",
      "do/av.|f-----/en \n",
      "\n",
      "do/pd..-i-----/en \n",
      "\n",
      "east/cp.s/en \n",
      "\n",
      "embarrassed/ca/en \n",
      "\n",
      "england/cp.s/en \n",
      "\n",
      "essex/cp.s/en \n",
      "\n",
      "feel/pd.sx.|f-----/en \n",
      "\n",
      "fighting/cc.s/en \n",
      "\n",
      "forgetting/pd.so.|pg----/en \n",
      "\n",
      "going/pr.sr.|pg----/en \n",
      "\n",
      "had/pd.xso.<f-----/en \n",
      "\n",
      "happened/pd.sx.<f-----/en \n",
      "\n",
      "have/pd.so.|f-----/en \n",
      "\n",
      "he/ci/en \n",
      "\n",
      "his/mp/en \n",
      "\n",
      "i/ci/en \n",
      "\n",
      "if/x/en \n",
      "\n",
      "in/t/en \n",
      "\n",
      "into/c/en \n",
      "\n",
      "king/cc.s/en \n",
      "\n",
      "kingdom/cc.s/en \n",
      "\n",
      "kingdoms/cc.p/en \n",
      "\n",
      "kingdoms/cp.p/en \n",
      "\n",
      "kings/cc.p/en \n",
      "\n",
      "know/pd.sr.-i-----/en \n",
      "\n",
      "like/x/en \n",
      "\n",
      "living/pr..|pg----/en \n",
      "\n",
      "lot/cc.s/en \n",
      "\n",
      "majority/cc.s/en \n",
      "\n",
      "mean/pd.s.|f-----/en \n",
      "\n",
      "mercia/cp.s/en \n",
      "\n",
      "most/ca/en \n",
      "\n",
      "northumbria/cp.s/en \n",
      "\n",
      "not/an/en \n",
      "\n",
      "obviously/a/en \n",
      "\n",
      "of/br.ma/en \n",
      "\n",
      "one/c#/en \n",
      "\n",
      "other/ma/en \n",
      "\n",
      "people/cc.p/en \n",
      "\n",
      "person/cc.s/en \n",
      "\n",
      "places/cc.p/en \n",
      "\n",
      "point/cc.s/en \n",
      "\n",
      "really/m/en \n",
      "\n",
      "reign/cc.s/en \n",
      "\n",
      "remember/pc.o.-i-----/en \n",
      "\n",
      "ruled/pd.o.<f-----/en \n",
      "\n",
      "saxon/ca/en \n",
      "\n",
      "seven/m#/en \n",
      "\n",
      "should/am/en \n",
      "\n",
      "spent/pd.ssox.<f-----/en \n",
      "\n",
      "still/a/en \n",
      "\n",
      "still/t/en \n",
      "\n",
      "strathclyde/cp.s/en \n",
      "\n",
      "stuff/cc.s/en \n",
      "\n",
      "talking/pr.x.|pg----/en \n",
      "\n",
      "technically/t/en \n",
      "\n",
      "that/md/en \n",
      "\n",
      "the/md/en \n",
      "\n",
      "their/mp/en \n",
      "\n",
      "them/ci/en \n",
      "\n",
      "then/m/en \n",
      "\n",
      "there/ae/en \n",
      "\n",
      "they/ci/en \n",
      "\n",
      "thing/cc.s/en \n",
      "\n",
      "time/cc.s/en \n",
      "\n",
      "to/ai/en \n",
      "\n",
      "tonight/cc.s/en \n",
      "\n",
      "until/mr/en \n",
      "\n",
      "up/t/en \n",
      "\n",
      "very/m/en \n",
      "\n",
      "was/pd.c.<f-----/en \n",
      "\n",
      "we/ci/en \n",
      "\n",
      "welsh/cp.s/en \n",
      "\n",
      "were/av.<f-----/en \n",
      "\n",
      "were/pd..<f-----/en \n",
      "\n",
      "were/pr.scx.<f-----/en \n",
      "\n",
      "wessex/cp.s/en \n",
      "\n",
      "who/cw/en \n",
      "\n",
      "with/t/en \n",
      "\n",
      "would/am/en \n",
      "\n",
      "you/ci/en \n",
      "\n"
     ]
    }
   ],
   "source": [
    "for edge in hg.all():\n",
    "    print(edge,\"\\n\")"
   ]
  },
  {
   "cell_type": "code",
   "execution_count": null,
   "metadata": {},
   "outputs": [],
   "source": [
    "edge_iterator = hg.search(pattern)"
   ]
  }
 ],
 "metadata": {
  "kernelspec": {
   "display_name": "python37",
   "language": "python",
   "name": "python37"
  },
  "language_info": {
   "codemirror_mode": {
    "name": "ipython",
    "version": 3
   },
   "file_extension": ".py",
   "mimetype": "text/x-python",
   "name": "python",
   "nbconvert_exporter": "python",
   "pygments_lexer": "ipython3",
   "version": "3.7.7"
  }
 },
 "nbformat": 4,
 "nbformat_minor": 4
}
