{
 "cells": [
  {
   "cell_type": "code",
   "execution_count": 1,
   "metadata": {},
   "outputs": [
    {
     "name": "stdout",
     "output_type": "stream",
     "text": [
      "done\n"
     ]
    }
   ],
   "source": [
    "from graphbrain.notebook import *\n",
    "from graphbrain.parsers import *\n",
    "from graphbrain import *\n",
    "parser = create_parser(name='en')\n",
    "\n",
    "print(\"done\")"
   ]
  },
  {
   "cell_type": "code",
   "execution_count": 2,
   "metadata": {},
   "outputs": [
    {
     "data": {
      "text/html": [
       "<span style=\"color:#a65628\"><span style=\"font-weight:bold;font-size:14pt;\">(</span><span style=\"font-size:14pt;\"><span style=\"font-weight:bold;color:#a65628\">is</span><span style=\"color:#7F7F6F;font-size:8pt\">/pd.sc.|f--3s-/en</span></span> <div style=\"margin-left:20px;color:#377eb8\"><span style=\"font-weight:bold;font-size:13pt;\">[</span><span style=\"font-size:13pt;\"><span style=\"font-weight:bold;color:#377eb8\">:</span><span style=\"color:#7F7F6F;font-size:8pt\">/b/.</span></span> <div style=\"margin-left:20px;color:#4daf4a\"><span style=\"font-weight:bold;font-size:12pt;\">[</span><span style=\"font-size:12pt;\"><span style=\"font-weight:bold;color:#4daf4a\">the</span><span style=\"color:#7F7F6F;font-size:8pt\">/md/en</span></span> <div style=\"margin-left:20px;color:#984ea3\"><span style=\"font-weight:bold;font-size:11pt;\">[</span><span style=\"font-size:11pt;\"><span style=\"font-weight:bold;color:#984ea3\">+</span><span style=\"color:#7F7F6F;font-size:8pt\">/b.mm/.</span></span> <span style=\"font-size:11pt;\"><span style=\"color:#404040\">turing</span><span style=\"color:#7F7F6F;font-size:8pt\">/cp.s/en</span></span> <span style=\"font-size:11pt;\"><span style=\"color:#404040\">test</span><span style=\"color:#7F7F6F;font-size:8pt\">/cc.s/en</span></span><span style=\"color:#984ea3\"><span style=\"font-weight:bold;font-size:11pt;\">]</span></span><span style=\"color:#4daf4a\"><span style=\"font-weight:bold;font-size:12pt;\">]</span></span></div></div> <div style=\"margin-left:20px;color:#4daf4a\"><span style=\"font-weight:bold;font-size:12pt;\">(</span><span style=\"font-size:12pt;\"><span style=\"font-weight:bold;color:#4daf4a\">developed</span><span style=\"color:#7F7F6F;font-size:8pt\">/pc.ax.&lt;pf----/en</span></span> <div style=\"margin-left:20px;color:#984ea3\"><span style=\"font-weight:bold;font-size:11pt;\">(</span><span style=\"font-size:11pt;\"><span style=\"font-weight:bold;color:#984ea3\">by</span><span style=\"color:#7F7F6F;font-size:8pt\">/x/en</span></span> <div style=\"margin-left:20px;color:#ff7f00\"><span style=\"font-weight:bold;font-size:10pt;\">[</span><span style=\"font-size:10pt;\"><span style=\"font-weight:bold;color:#ff7f00\">+</span><span style=\"color:#7F7F6F;font-size:8pt\">/b.am/.</span></span> <span style=\"font-size:10pt;\"><span style=\"color:#404040\">alan</span><span style=\"color:#7F7F6F;font-size:8pt\">/cp.s/en</span></span> <span style=\"font-size:10pt;\"><span style=\"color:#404040\">turing</span><span style=\"color:#7F7F6F;font-size:8pt\">/cp.s/en</span></span><span style=\"color:#ff7f00\"><span style=\"font-weight:bold;font-size:10pt;\">]</span></span><span style=\"color:#984ea3\"><span style=\"font-weight:bold;font-size:11pt;\">)</span></span></div></div> <div style=\"margin-left:20px;color:#984ea3\"><span style=\"font-weight:bold;font-size:11pt;\">{</span><span style=\"font-size:11pt;\"><span style=\"font-weight:bold;color:#984ea3\">in</span><span style=\"color:#7F7F6F;font-size:8pt\">/tt/en</span></span> <span style=\"font-size:11pt;\"><span style=\"color:#404040\">1950</span><span style=\"color:#7F7F6F;font-size:8pt\">/c#/en</span></span><span style=\"color:#984ea3\"><span style=\"font-weight:bold;font-size:11pt;\">}</span></span><span style=\"color:#4daf4a\"><span style=\"font-weight:bold;font-size:12pt;\">)</span></span><span style=\"color:#377eb8\"><span style=\"font-weight:bold;font-size:13pt;\">]</span></span></div></div></div> <div style=\"margin-left:20px;color:#377eb8\"><span style=\"font-weight:bold;font-size:13pt;\">[</span><span style=\"font-size:13pt;\"><span style=\"font-weight:bold;color:#377eb8\">a</span><span style=\"color:#7F7F6F;font-size:8pt\">/md/en</span></span> <div style=\"margin-left:20px;color:#4daf4a\"><span style=\"font-weight:bold;font-size:12pt;\">[</span><span style=\"font-size:12pt;\"><span style=\"font-weight:bold;color:#4daf4a\">of</span><span style=\"color:#7F7F6F;font-size:8pt\">/br.ma/en</span></span> <div style=\"margin-left:20px;font-size:12pt;\"><span style=\"color:#404040\">test</span><span style=\"color:#7F7F6F;font-size:8pt\">/cc.s/en</span></div> <div style=\"margin-left:20px;color:#984ea3\"><span style=\"font-weight:bold;font-size:11pt;\">[</span><span style=\"font-size:11pt;\"><span style=\"font-weight:bold;color:#984ea3\">+</span><span style=\"color:#7F7F6F;font-size:8pt\">/b.am/.</span></span> <span style=\"font-size:11pt;\"><span style=\"color:#404040\">machine</span><span style=\"color:#7F7F6F;font-size:8pt\">/cc.s/en</span></span> <span style=\"font-size:11pt;\"><span style=\"color:#404040\">intelligence</span><span style=\"color:#7F7F6F;font-size:8pt\">/cc.s/en</span></span><span style=\"color:#984ea3\"><span style=\"font-weight:bold;font-size:11pt;\">]</span></span><span style=\"color:#4daf4a\"><span style=\"font-weight:bold;font-size:12pt;\">]</span></span><span style=\"color:#377eb8\"><span style=\"font-weight:bold;font-size:13pt;\">]</span></span><span style=\"color:#a65628\"><span style=\"font-weight:bold;font-size:14pt;\">)</span></span></div></div></div></span>"
      ],
      "text/plain": [
       "<IPython.core.display.HTML object>"
      ]
     },
     "metadata": {},
     "output_type": "display_data"
    }
   ],
   "source": [
    "text = \"The Turing test, developed by Alan Turing in 1950, is a test of machine intelligence.\"\n",
    "roots_only = False\n",
    "style = 'indented'  # possible values: 'indented', 'compact' and 'oneline'\n",
    "tree = False\n",
    "\n",
    "parse_result = parser.parse(text)\n",
    "for parse in parse_result:\n",
    "    if tree:\n",
    "        print_tree(parse['spacy_sentence'].root)\n",
    "    show(parse['main_edge'], roots_only=roots_only, style=style) #notebook only"
   ]
  },
  {
   "cell_type": "code",
   "execution_count": 3,
   "metadata": {},
   "outputs": [
    {
     "name": "stdout",
     "output_type": "stream",
     "text": [
      "done\n"
     ]
    }
   ],
   "source": [
    "hg = hgraph('example.hg')\n",
    "print(\"done\")"
   ]
  },
  {
   "cell_type": "code",
   "execution_count": 33,
   "metadata": {},
   "outputs": [
    {
     "data": {
      "text/plain": [
       "'Mary is playing violin. Mary is very good at it. Bob also has a guitar. Bob sucks at a guitar. Mary helps a guitar with a guitar.'"
      ]
     },
     "execution_count": 33,
     "metadata": {},
     "output_type": "execute_result"
    }
   ],
   "source": [
    "import neuralcoref\n",
    "import spacy\n",
    "nlp = spacy.load('en')\n",
    "\n",
    "text = \"Mary is playing violin. She is very good at it. Bob also has a guitar. Bob sucks at it. She helps him with it.\"\n",
    "neuralcoref.add_to_pipe(nlp, greedyness = .50)\n",
    "facts = nlp(text)\n",
    "facts._.coref_resolved\n",
    "# facts._.coref_clusters"
   ]
  },
  {
   "cell_type": "code",
   "execution_count": 38,
   "metadata": {},
   "outputs": [
    {
     "data": {
      "text/plain": [
       "'Mary is playing violin. Mary is very good at it. Bob also has a guitar. Bob sucks at it. Mary helps a guitar with it.'"
      ]
     },
     "execution_count": 38,
     "metadata": {},
     "output_type": "execute_result"
    }
   ],
   "source": [
    "nlp.remove_pipe(\"neuralcoref\")\n",
    "neuralcoref.add_to_pipe(nlp, conv_dict={'Mary': ['woman', 'she'], 'Bob':['man', 'him'], 'guitar':['it'],'violin':['it']}, greedyness = .51)\n",
    "doc = nlp(text)\n",
    "doc._.coref_resolved"
   ]
  },
  {
   "cell_type": "code",
   "execution_count": 34,
   "metadata": {},
   "outputs": [
    {
     "data": {
      "text/html": [
       "<span style=\"color:#a65628\"><span style=\"font-weight:bold;font-size:12pt;\">(</span><span style=\"color:#377eb8\"><span style=\"font-weight:bold;font-size:12pt;\">(</span><span style=\"font-size:12pt;\"><span style=\"font-weight:bold;color:#377eb8\">is</span></span> <span style=\"font-size:12pt;\"><span style=\"font-weight:bold;color:#404040\">playing</span></span><span style=\"color:#377eb8\"><span style=\"font-weight:bold;font-size:12pt;\">)</span></span></span> <div style=\"margin-left:20px;font-size:12pt;\"><span style=\"color:#404040\">mary</span></div> <div style=\"margin-left:20px;color:#377eb8\"><span style=\"font-weight:bold;font-size:12pt;\">[</span><span style=\"font-size:12pt;\"><span style=\"font-weight:bold;color:#377eb8\">a</span></span> <span style=\"color:#4daf4a\"><span style=\"font-weight:bold;font-size:12pt;\">[</span><span style=\"color:#984ea3\"><span style=\"font-weight:bold;font-size:12pt;\">(</span><span style=\"font-size:12pt;\"><span style=\"font-weight:bold;color:#984ea3\">very</span></span> <span style=\"font-size:12pt;\"><span style=\"font-weight:bold;color:#404040\">old</span></span><span style=\"color:#984ea3\"><span style=\"font-weight:bold;font-size:12pt;\">)</span></span></span> <span style=\"font-size:12pt;\"><span style=\"color:#404040\">violin</span></span><span style=\"color:#4daf4a\"><span style=\"font-weight:bold;font-size:12pt;\">]</span></span><span style=\"color:#377eb8\"><span style=\"font-weight:bold;font-size:12pt;\">]</span></span><span style=\"color:#a65628\"><span style=\"font-weight:bold;font-size:12pt;\">)</span></span></span></div></span>"
      ],
      "text/plain": [
       "<IPython.core.display.HTML object>"
      ]
     },
     "metadata": {},
     "output_type": "display_data"
    },
    {
     "data": {
      "text/html": [
       "<span style=\"color:#a65628\"><span style=\"font-weight:bold;font-size:12pt;\">(</span><span style=\"font-size:12pt;\"><span style=\"font-weight:bold;color:#a65628\">is</span></span> <div style=\"margin-left:20px;font-size:12pt;\"><span style=\"color:#404040\">she</span></div> <div style=\"margin-left:20px;color:#377eb8\"><span style=\"font-weight:bold;font-size:12pt;\">[</span><span style=\"font-size:12pt;\"><span style=\"font-weight:bold;color:#377eb8\">very</span></span> <span style=\"font-size:12pt;\"><span style=\"color:#404040\">good</span></span><span style=\"color:#377eb8\"><span style=\"font-weight:bold;font-size:12pt;\">]</span></span></div> <div style=\"margin-left:20px;color:#377eb8\"><span style=\"font-weight:bold;font-size:12pt;\">{</span><span style=\"font-size:12pt;\"><span style=\"font-weight:bold;color:#377eb8\">at</span></span> <span style=\"font-size:12pt;\"><span style=\"color:#404040\">it</span></span><span style=\"color:#377eb8\"><span style=\"font-weight:bold;font-size:12pt;\">}</span></span><span style=\"color:#a65628\"><span style=\"font-weight:bold;font-size:12pt;\">)</span></span></div></span>"
      ],
      "text/plain": [
       "<IPython.core.display.HTML object>"
      ]
     },
     "metadata": {},
     "output_type": "display_data"
    }
   ],
   "source": [
    "# change to whatever you like...\n",
    "text = \"\"\"\n",
    "Mary is playing a very old violin. She is very good at it.\n",
    "\"\"\"\n",
    "\n",
    "parse_results = parser.parse(text)\n",
    "for parse in parse_results:\n",
    "    edge = parse['main_edge']\n",
    "    show(edge, style='compact')\n",
    "    hg.add(edge)"
   ]
  },
  {
   "cell_type": "code",
   "execution_count": 43,
   "metadata": {},
   "outputs": [
    {
     "name": "stdout",
     "output_type": "stream",
     "text": [
      "main_edge  :  ((is/av.|f--3s-/en playing/pd.so.|pg----/en) mary/cp.s/en (a/md/en ((very/w/en old/ma/en) violin/cc.s/en)))\n",
      "extra_edges  :  set()\n",
      "text  :  Mary is playing a very old violin.\n",
      "spacy_sentence  :  Mary is playing a very old violin.\n",
      "\n",
      "\n",
      "\n",
      "main_edge  :  (is/pd.scx.|f--3s-/en she/ci/en (very/m/en good/ca/en) (at/t/en it/ci/en))\n",
      "extra_edges  :  set()\n",
      "text  :  She is very good at it.\n",
      "spacy_sentence  :  She is very good at it.\n",
      "\n",
      "\n",
      "\n"
     ]
    }
   ],
   "source": [
    "for sent in parse_results:\n",
    "    for key, value in sent.items():\n",
    "        print(key, ' : ', value)\n",
    "    print(\"\\n\\n\")"
   ]
  },
  {
   "cell_type": "code",
   "execution_count": 6,
   "metadata": {},
   "outputs": [
    {
     "data": {
      "text/html": [
       "<span style=\"color:#a65628\"><span style=\"font-weight:bold;font-size:11pt;\">(</span><span style=\"color:#377eb8\"><span style=\"font-weight:bold;font-size:11pt;\">(</span><span style=\"font-size:11pt;\"><span style=\"font-weight:bold;color:#377eb8\">is</span><span style=\"color:#7F7F6F;font-size:8pt\">/av.|f--3s-/en</span></span> <span style=\"font-size:11pt;\"><span style=\"font-weight:bold;color:#404040\">playing</span><span style=\"color:#7F7F6F;font-size:8pt\">/pd.so.|pg----/en</span></span><span style=\"color:#377eb8\"><span style=\"font-weight:bold;font-size:11pt;\">)</span></span></span> <span style=\"font-size:11pt;\"><span style=\"color:#404040\">mary</span><span style=\"color:#7F7F6F;font-size:8pt\">/cp.s/en</span></span> <span style=\"color:#377eb8\"><span style=\"font-weight:bold;font-size:11pt;\">[</span><span style=\"font-size:11pt;\"><span style=\"font-weight:bold;color:#377eb8\">a</span><span style=\"color:#7F7F6F;font-size:8pt\">/md/en</span></span> <span style=\"color:#4daf4a\"><span style=\"font-weight:bold;font-size:11pt;\">[</span><span style=\"color:#984ea3\"><span style=\"font-weight:bold;font-size:11pt;\">(</span><span style=\"font-size:11pt;\"><span style=\"font-weight:bold;color:#984ea3\">very</span><span style=\"color:#7F7F6F;font-size:8pt\">/w/en</span></span> <span style=\"font-size:11pt;\"><span style=\"font-weight:bold;color:#404040\">old</span><span style=\"color:#7F7F6F;font-size:8pt\">/ma/en</span></span><span style=\"color:#984ea3\"><span style=\"font-weight:bold;font-size:11pt;\">)</span></span></span> <span style=\"font-size:11pt;\"><span style=\"color:#404040\">violin</span><span style=\"color:#7F7F6F;font-size:8pt\">/cc.s/en</span></span><span style=\"color:#4daf4a\"><span style=\"font-weight:bold;font-size:11pt;\">]</span></span><span style=\"color:#377eb8\"><span style=\"font-weight:bold;font-size:11pt;\">]</span></span><span style=\"color:#a65628\"><span style=\"font-weight:bold;font-size:11pt;\">)</span></span></span></span></span>"
      ],
      "text/plain": [
       "<IPython.core.display.HTML object>"
      ]
     },
     "metadata": {},
     "output_type": "display_data"
    },
    {
     "data": {
      "text/html": [
       "<span style=\"color:#a65628\"><span style=\"font-weight:bold;font-size:11pt;\">[</span><span style=\"color:#377eb8\"><span style=\"font-weight:bold;font-size:11pt;\">(</span><span style=\"font-size:11pt;\"><span style=\"font-weight:bold;color:#377eb8\">very</span><span style=\"color:#7F7F6F;font-size:8pt\">/w/en</span></span> <span style=\"font-size:11pt;\"><span style=\"font-weight:bold;color:#404040\">old</span><span style=\"color:#7F7F6F;font-size:8pt\">/ma/en</span></span><span style=\"color:#377eb8\"><span style=\"font-weight:bold;font-size:11pt;\">)</span></span></span> <span style=\"font-size:11pt;\"><span style=\"color:#404040\">violin</span><span style=\"color:#7F7F6F;font-size:8pt\">/cc.s/en</span></span><span style=\"color:#a65628\"><span style=\"font-weight:bold;font-size:11pt;\">]</span></span></span>"
      ],
      "text/plain": [
       "<IPython.core.display.HTML object>"
      ]
     },
     "metadata": {},
     "output_type": "display_data"
    },
    {
     "data": {
      "text/html": [
       "<span style=\"color:#a65628\"><span style=\"font-weight:bold;font-size:11pt;\">[</span><span style=\"font-size:11pt;\"><span style=\"font-weight:bold;color:#a65628\">a</span><span style=\"color:#7F7F6F;font-size:8pt\">/md/en</span></span> <span style=\"color:#377eb8\"><span style=\"font-weight:bold;font-size:11pt;\">[</span><span style=\"color:#4daf4a\"><span style=\"font-weight:bold;font-size:11pt;\">(</span><span style=\"font-size:11pt;\"><span style=\"font-weight:bold;color:#4daf4a\">very</span><span style=\"color:#7F7F6F;font-size:8pt\">/w/en</span></span> <span style=\"font-size:11pt;\"><span style=\"font-weight:bold;color:#404040\">old</span><span style=\"color:#7F7F6F;font-size:8pt\">/ma/en</span></span><span style=\"color:#4daf4a\"><span style=\"font-weight:bold;font-size:11pt;\">)</span></span></span> <span style=\"font-size:11pt;\"><span style=\"color:#404040\">violin</span><span style=\"color:#7F7F6F;font-size:8pt\">/cc.s/en</span></span><span style=\"color:#377eb8\"><span style=\"font-weight:bold;font-size:11pt;\">]</span></span><span style=\"color:#a65628\"><span style=\"font-weight:bold;font-size:11pt;\">]</span></span></span></span>"
      ],
      "text/plain": [
       "<IPython.core.display.HTML object>"
      ]
     },
     "metadata": {},
     "output_type": "display_data"
    },
    {
     "data": {
      "text/html": [
       "<span style=\"color:#a65628\"><span style=\"font-weight:bold;font-size:11pt;\">(</span><span style=\"font-size:11pt;\"><span style=\"font-weight:bold;color:#a65628\">is</span><span style=\"color:#7F7F6F;font-size:8pt\">/av.|f--3s-/en</span></span> <span style=\"font-size:11pt;\"><span style=\"color:#404040\">playing</span><span style=\"color:#7F7F6F;font-size:8pt\">/pd.so.|pg----/en</span></span><span style=\"color:#a65628\"><span style=\"font-weight:bold;font-size:11pt;\">)</span></span></span>"
      ],
      "text/plain": [
       "<IPython.core.display.HTML object>"
      ]
     },
     "metadata": {},
     "output_type": "display_data"
    },
    {
     "data": {
      "text/html": [
       "<span style=\"color:#a65628\"><span style=\"font-weight:bold;font-size:11pt;\">(</span><span style=\"font-size:11pt;\"><span style=\"font-weight:bold;color:#a65628\">very</span><span style=\"color:#7F7F6F;font-size:8pt\">/w/en</span></span> <span style=\"font-size:11pt;\"><span style=\"color:#404040\">old</span><span style=\"color:#7F7F6F;font-size:8pt\">/ma/en</span></span><span style=\"color:#a65628\"><span style=\"font-weight:bold;font-size:11pt;\">)</span></span></span>"
      ],
      "text/plain": [
       "<IPython.core.display.HTML object>"
      ]
     },
     "metadata": {},
     "output_type": "display_data"
    },
    {
     "data": {
      "text/html": [
       "<span style=\"font-size:11pt;\"><span style=\"color:#000\">a</span><span style=\"color:#7F7F6F;font-size:8pt\">/md/en</span></span>"
      ],
      "text/plain": [
       "<IPython.core.display.HTML object>"
      ]
     },
     "metadata": {},
     "output_type": "display_data"
    },
    {
     "data": {
      "text/html": [
       "<span style=\"font-size:11pt;\"><span style=\"color:#000\">is</span><span style=\"color:#7F7F6F;font-size:8pt\">/av.|f--3s-/en</span></span>"
      ],
      "text/plain": [
       "<IPython.core.display.HTML object>"
      ]
     },
     "metadata": {},
     "output_type": "display_data"
    },
    {
     "data": {
      "text/html": [
       "<span style=\"font-size:11pt;\"><span style=\"color:#000\">mary</span><span style=\"color:#7F7F6F;font-size:8pt\">/cp.s/en</span></span>"
      ],
      "text/plain": [
       "<IPython.core.display.HTML object>"
      ]
     },
     "metadata": {},
     "output_type": "display_data"
    },
    {
     "data": {
      "text/html": [
       "<span style=\"font-size:11pt;\"><span style=\"color:#000\">old</span><span style=\"color:#7F7F6F;font-size:8pt\">/ma/en</span></span>"
      ],
      "text/plain": [
       "<IPython.core.display.HTML object>"
      ]
     },
     "metadata": {},
     "output_type": "display_data"
    },
    {
     "data": {
      "text/html": [
       "<span style=\"font-size:11pt;\"><span style=\"color:#000\">playing</span><span style=\"color:#7F7F6F;font-size:8pt\">/pd.so.|pg----/en</span></span>"
      ],
      "text/plain": [
       "<IPython.core.display.HTML object>"
      ]
     },
     "metadata": {},
     "output_type": "display_data"
    },
    {
     "data": {
      "text/html": [
       "<span style=\"font-size:11pt;\"><span style=\"color:#000\">very</span><span style=\"color:#7F7F6F;font-size:8pt\">/w/en</span></span>"
      ],
      "text/plain": [
       "<IPython.core.display.HTML object>"
      ]
     },
     "metadata": {},
     "output_type": "display_data"
    },
    {
     "data": {
      "text/html": [
       "<span style=\"font-size:11pt;\"><span style=\"color:#000\">violin</span><span style=\"color:#7F7F6F;font-size:8pt\">/cc.s/en</span></span>"
      ],
      "text/plain": [
       "<IPython.core.display.HTML object>"
      ]
     },
     "metadata": {},
     "output_type": "display_data"
    }
   ],
   "source": [
    "for edge in hg.all():\n",
    "    show(edge, style='oneline', roots_only=False)"
   ]
  },
  {
   "cell_type": "code",
   "execution_count": 15,
   "metadata": {},
   "outputs": [
    {
     "data": {
      "text/html": [
       "<span style=\"color:#a65628\"><span style=\"font-weight:bold;font-size:11pt;\">(</span><span style=\"color:#377eb8\"><span style=\"font-weight:bold;font-size:11pt;\">(</span><span style=\"font-size:11pt;\"><span style=\"font-weight:bold;color:#377eb8\">is</span><span style=\"color:#7F7F6F;font-size:8pt\">/av.|f--3s-/en</span></span> <span style=\"font-size:11pt;\"><span style=\"font-weight:bold;color:#404040\">playing</span><span style=\"color:#7F7F6F;font-size:8pt\">/pd.so.|pg----/en</span></span><span style=\"color:#377eb8\"><span style=\"font-weight:bold;font-size:11pt;\">)</span></span></span> <span style=\"font-size:11pt;\"><span style=\"color:#404040\">mary</span><span style=\"color:#7F7F6F;font-size:8pt\">/cp.s/en</span></span> <span style=\"color:#377eb8\"><span style=\"font-weight:bold;font-size:11pt;\">[</span><span style=\"font-size:11pt;\"><span style=\"font-weight:bold;color:#377eb8\">a</span><span style=\"color:#7F7F6F;font-size:8pt\">/md/en</span></span> <span style=\"color:#4daf4a\"><span style=\"font-weight:bold;font-size:11pt;\">[</span><span style=\"color:#984ea3\"><span style=\"font-weight:bold;font-size:11pt;\">(</span><span style=\"font-size:11pt;\"><span style=\"font-weight:bold;color:#984ea3\">very</span><span style=\"color:#7F7F6F;font-size:8pt\">/w/en</span></span> <span style=\"font-size:11pt;\"><span style=\"font-weight:bold;color:#404040\">old</span><span style=\"color:#7F7F6F;font-size:8pt\">/ma/en</span></span><span style=\"color:#984ea3\"><span style=\"font-weight:bold;font-size:11pt;\">)</span></span></span> <span style=\"font-size:11pt;\"><span style=\"color:#404040\">violin</span><span style=\"color:#7F7F6F;font-size:8pt\">/cc.s/en</span></span><span style=\"color:#4daf4a\"><span style=\"font-weight:bold;font-size:11pt;\">]</span></span><span style=\"color:#377eb8\"><span style=\"font-weight:bold;font-size:11pt;\">]</span></span><span style=\"color:#a65628\"><span style=\"font-weight:bold;font-size:11pt;\">)</span></span></span></span></span>"
      ],
      "text/plain": [
       "<IPython.core.display.HTML object>"
      ]
     },
     "metadata": {},
     "output_type": "display_data"
    },
    {
     "name": "stdout",
     "output_type": "stream",
     "text": [
      "done\n"
     ]
    }
   ],
   "source": [
    "def search_and_show(pattern):\n",
    "    for edge in hg.search(pattern):\n",
    "        show(edge, style='oneline', roots_only=False)\n",
    "\n",
    "# '...' at the end indicates that the edge may have an arbitrary number of extra entities\n",
    "search_and_show('((is/av.|f--3s-/en playing/pd.so.|pg----/en)...)')\n",
    "print(\"done\")"
   ]
  },
  {
   "cell_type": "code",
   "execution_count": 1,
   "metadata": {},
   "outputs": [
    {
     "name": "stdout",
     "output_type": "stream",
     "text": [
      "example #1:\n"
     ]
    },
    {
     "ename": "NameError",
     "evalue": "name 'search_and_show' is not defined",
     "output_type": "error",
     "traceback": [
      "\u001b[0;31m---------------------------------------------------------------------------\u001b[0m",
      "\u001b[0;31mNameError\u001b[0m                                 Traceback (most recent call last)",
      "\u001b[0;32m<ipython-input-1-fa62fe5dc872>\u001b[0m in \u001b[0;36m<module>\u001b[0;34m\u001b[0m\n\u001b[1;32m      1\u001b[0m \u001b[0;31m# * matches any entity (atom or hyperedge)\u001b[0m\u001b[0;34m\u001b[0m\u001b[0;34m\u001b[0m\u001b[0;34m\u001b[0m\u001b[0m\n\u001b[1;32m      2\u001b[0m \u001b[0mprint\u001b[0m\u001b[0;34m(\u001b[0m\u001b[0;34m'example #1:'\u001b[0m\u001b[0;34m)\u001b[0m\u001b[0;34m\u001b[0m\u001b[0;34m\u001b[0m\u001b[0m\n\u001b[0;32m----> 3\u001b[0;31m \u001b[0msearch_and_show\u001b[0m\u001b[0;34m(\u001b[0m\u001b[0;34m'((is/av.|f--3s-/en playing/pd.so.|pg----/en) * *)'\u001b[0m\u001b[0;34m)\u001b[0m\u001b[0;34m\u001b[0m\u001b[0;34m\u001b[0m\u001b[0m\n\u001b[0m\u001b[1;32m      4\u001b[0m \u001b[0;34m\u001b[0m\u001b[0m\n\u001b[1;32m      5\u001b[0m \u001b[0;31m# @ matches any atom\u001b[0m\u001b[0;34m\u001b[0m\u001b[0;34m\u001b[0m\u001b[0;34m\u001b[0m\u001b[0m\n",
      "\u001b[0;31mNameError\u001b[0m: name 'search_and_show' is not defined"
     ]
    }
   ],
   "source": [
    "# * matches any entity (atom or hyperedge)\n",
    "print('example #1:')\n",
    "search_and_show('((is/av.|f--3s-/en playing/pd.so.|pg----/en) * *)')\n",
    "\n",
    "# @ matches any atom\n",
    "# & mathes any hyperedge\n",
    "print('example #2:')\n",
    "search_and_show('((is/av.|f--3s-/en playing/pd.so.|pg----/en) @ &)')\n",
    "\n",
    "# # any combination of wildcards and entities is possibleabs\n",
    "print('example #3:')\n",
    "search_and_show('(* mary/cp.s/en *)')\n",
    "\n",
    "print('example #4:')\n",
    "search_and_show('(& @ (a/md/en ((very/w/en old/ma/en) violin/cc.s/en)))')"
   ]
  }
 ],
 "metadata": {
  "kernelspec": {
   "display_name": "checkra",
   "language": "python",
   "name": "checkra"
  },
  "language_info": {
   "codemirror_mode": {
    "name": "ipython",
    "version": 3
   },
   "file_extension": ".py",
   "mimetype": "text/x-python",
   "name": "python",
   "nbconvert_exporter": "python",
   "pygments_lexer": "ipython3",
   "version": "3.7.9"
  }
 },
 "nbformat": 4,
 "nbformat_minor": 4
}
