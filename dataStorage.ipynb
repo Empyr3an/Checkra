{
 "cells": [
  {
   "cell_type": "code",
   "execution_count": 1,
   "metadata": {},
   "outputs": [
    {
     "name": "stdout",
     "output_type": "stream",
     "text": [
      "CPU times: user 17.3 s, sys: 1.46 s, total: 18.7 s\n",
      "Wall time: 21.7 s\n"
     ]
    }
   ],
   "source": [
    "%%time\n",
    "\n",
    "#import in all libraries and methods\n",
    "%run -i 'myimports.py'\n",
    "%run -i 'datagathering.py'\n",
    "%run -i 'nlp_processing.py' #imports packages and methods\n",
    "\n",
    "%run -i 'timestamp_generation.py'\n",
    "\n",
    "main = \"https://www.happyscribe.com\"                \n",
    "url=\"/public/lex-fridman-podcast-artificial-intelligence-ai\"\n",
    "podcast_host = \"Lex Fridman\"\n",
    "html_location = \"Archive/happyscribe_Lex_Fridman_html.txt\"\n",
    "\n",
    "\n",
    "username = urllib.parse.quote_plus('Empyr3an')\n",
    "password = urllib.parse.quote_plus(\"B4ldr1c7@1\")\n",
    "\n",
    "cluster = pymongo.MongoClient(\"mongodb+srv://{}:{}@cluster0.4pec2.mongodb.net/Checkra?retryWrites=true&w=majority\".format(username, password))\n",
    "db = cluster[\"development\"]\n",
    "collection = db[\"lex\"]\n"
   ]
  },
  {
   "cell_type": "code",
   "execution_count": null,
   "metadata": {},
   "outputs": [],
   "source": [
    "# db[\"lex\"].delete_many({})"
   ]
  },
  {
   "cell_type": "code",
   "execution_count": null,
   "metadata": {},
   "outputs": [],
   "source": [
    "db = cluster[\"development\"]\n",
    "collection = db[\"lex\"]\n",
    "\n"
   ]
  },
  {
   "cell_type": "code",
   "execution_count": 13,
   "metadata": {},
   "outputs": [
    {
     "ename": "AttributeError",
     "evalue": "'Cursor' object has no attribute 'pretty'",
     "output_type": "error",
     "traceback": [
      "\u001b[0;31m---------------------------------------------------------------------------\u001b[0m",
      "\u001b[0;31mAttributeError\u001b[0m                            Traceback (most recent call last)",
      "\u001b[0;32m~/podcast/timestamp_generation.py\u001b[0m in \u001b[0;36m<module>\u001b[0;34m\u001b[0m\n\u001b[0;32m----> 1\u001b[0;31m \u001b[0mlist\u001b[0m\u001b[0;34m(\u001b[0m\u001b[0mcollection\u001b[0m\u001b[0;34m.\u001b[0m\u001b[0mfind\u001b[0m\u001b[0;34m(\u001b[0m\u001b[0;34m)\u001b[0m\u001b[0;34m.\u001b[0m\u001b[0mpretty\u001b[0m\u001b[0;34m(\u001b[0m\u001b[0;34m)\u001b[0m\u001b[0;34m)\u001b[0m\u001b[0;34m\u001b[0m\u001b[0;34m\u001b[0m\u001b[0m\n\u001b[0m",
      "\u001b[0;31mAttributeError\u001b[0m: 'Cursor' object has no attribute 'pretty'"
     ]
    }
   ],
   "source": [
    "list(collection.find().pretty())"
   ]
  },
  {
   "cell_type": "code",
   "execution_count": 53,
   "metadata": {},
   "outputs": [
    {
     "name": "stdout",
     "output_type": "stream",
     "text": [
      "Ben Goertzel ['Titling Real I.', 'The Will to Power', 'Star Trek', 'Attention Is All You Need']\n",
      "Steven Pressfield ['The Virtues of War']\n",
      "Alexander Fridman ['Holocaust', 'A Love of Math']\n",
      "Robert Langer ['A Short History of Nearly Everything']\n",
      "Joscha Bach ['Denial of Death']\n",
      "Yaron Brook ['Bible', 'Girls Incompleteness Theorem', 'The Ominous Parallels', 'The Virtue of Selfishness', 'Atlas Shrugged', 'Anthem', 'The King of Kings']\n",
      "John Clarke ['Jonathan Livingston Seagull', 'Bible', 'Whiplash']\n",
      "Matt Botvinick ['Deep Learning', 'Enlightenment Now']\n",
      "Matthew Johnson ['Bible', 'Deep Work']\n",
      "Andrew Huberman ['Nobel']\n",
      "Peter Singer ['Holocaust', 'the Life You Can Save', 'The Concept of Mind']\n",
      "Brian Kernighan ['UNIX']\n",
      "Jitendra Malik ['The Scientist in the Crib']\n",
      "Ian Hutchinson ['the Book of Job', 'Can A Scientist Believe in Miracles', 'Bible']\n",
      "Erik Brynjolfsson ['The Worldly Philosophers']\n",
      "Manolis Kellis ['Hitchhiker’s Guide', 'Write Me a Poem', 'Contact and the book', 'Hallelujah', 'The Old Man', 'Bible']\n",
      "Dileep George ['Kindle', 'The Mind’s Eye']\n",
      "Michael Littman ['The Piano Man Nice']\n",
      "David Eagleman ['Denial of Death', 'Incognito', 'Invisible Cities']\n",
      "Sheldon Solomon ['The Birth and Death of Meaning', 'Decline of the West', 'Clock Without Hands', 'Escape from Freedom', 'In the Name of Identity, Violence and the Need to Belong', 'The Denial of Death', 'Denial of Death', 'Bible']\n",
      "Eugenia Kuyda ['Denial of Death']\n",
      "Marcus Hutter ['The Mind', 'Bible']\n",
      "Sara Seager ['Denial of Death', 'The Giver']\n",
      "David Fravor ['The Bottom Line', 'Star Trek', 'Top Gun']\n",
      "Nick Bostrom ['a Wonderful Life', 'Superintelligence']\n",
      "Ann Druyan ['Cosmos']\n",
      "Vitalik Buterin ['A Quadratic Payments']\n"
     ]
    }
   ],
   "source": [
    "att = \"books\"\n",
    "all_atts = []\n",
    "for doc in list(collection.find({att:{\"$ne\":[]}})):\n",
    "    print(doc[\"guest\"], doc[att])\n",
    "    for a in doc[att]:\n",
    "        all_atts.append(a)"
   ]
  },
  {
   "cell_type": "code",
   "execution_count": 55,
   "metadata": {},
   "outputs": [
    {
     "data": {
      "text/plain": [
       "['Titling Real I.',\n",
       " 'The Will to Power',\n",
       " 'Star Trek',\n",
       " 'Attention Is All You Need',\n",
       " 'The Virtues of War',\n",
       " 'Holocaust',\n",
       " 'A Love of Math',\n",
       " 'A Short History of Nearly Everything',\n",
       " 'Denial of Death',\n",
       " 'Bible',\n",
       " 'Girls Incompleteness Theorem',\n",
       " 'The Ominous Parallels',\n",
       " 'The Virtue of Selfishness',\n",
       " 'Atlas Shrugged',\n",
       " 'Anthem',\n",
       " 'The King of Kings',\n",
       " 'Jonathan Livingston Seagull',\n",
       " 'Bible',\n",
       " 'Whiplash',\n",
       " 'Deep Learning',\n",
       " 'Enlightenment Now',\n",
       " 'Bible',\n",
       " 'Deep Work',\n",
       " 'Nobel',\n",
       " 'Holocaust',\n",
       " 'the Life You Can Save',\n",
       " 'The Concept of Mind',\n",
       " 'UNIX',\n",
       " 'The Scientist in the Crib',\n",
       " 'the Book of Job',\n",
       " 'Can A Scientist Believe in Miracles',\n",
       " 'Bible',\n",
       " 'The Worldly Philosophers',\n",
       " 'Hitchhiker’s Guide',\n",
       " 'Write Me a Poem',\n",
       " 'Contact and the book',\n",
       " 'Hallelujah',\n",
       " 'The Old Man',\n",
       " 'Bible',\n",
       " 'Kindle',\n",
       " 'The Mind’s Eye',\n",
       " 'The Piano Man Nice',\n",
       " 'Denial of Death',\n",
       " 'Incognito',\n",
       " 'Invisible Cities',\n",
       " 'The Birth and Death of Meaning',\n",
       " 'Decline of the West',\n",
       " 'Clock Without Hands',\n",
       " 'Escape from Freedom',\n",
       " 'In the Name of Identity, Violence and the Need to Belong',\n",
       " 'The Denial of Death',\n",
       " 'Denial of Death',\n",
       " 'Bible',\n",
       " 'Denial of Death',\n",
       " 'The Mind',\n",
       " 'Bible',\n",
       " 'Denial of Death',\n",
       " 'The Giver',\n",
       " 'The Bottom Line',\n",
       " 'Star Trek',\n",
       " 'Top Gun',\n",
       " 'a Wonderful Life',\n",
       " 'Superintelligence',\n",
       " 'Cosmos',\n",
       " 'A Quadratic Payments']"
      ]
     },
     "execution_count": 55,
     "metadata": {},
     "output_type": "execute_result"
    }
   ],
   "source": [
    "all_atts"
   ]
  },
  {
   "cell_type": "code",
   "execution_count": 64,
   "metadata": {},
   "outputs": [
    {
     "name": "stdout",
     "output_type": "stream",
     "text": [
      "1 The Denial of Death Denial of Death\n",
      "dict_keys(['Titling Real I.', 'The Will to Power', 'Star Trek', 'Attention Is All You Need', 'The Virtues of War', 'Holocaust', 'A Love of Math', 'A Short History of Nearly Everything', 'Denial of Death', 'Bible', 'Girls Incompleteness Theorem', 'The Ominous Parallels', 'The Virtue of Selfishness', 'Atlas Shrugged', 'Anthem', 'The King of Kings', 'Jonathan Livingston Seagull', 'Whiplash', 'Deep Learning', 'Enlightenment Now', 'Deep Work', 'Nobel', 'the Life You Can Save', 'The Concept of Mind', 'UNIX', 'The Scientist in the Crib', 'the Book of Job', 'Can A Scientist Believe in Miracles', 'The Worldly Philosophers', 'Hitchhiker’s Guide', 'Write Me a Poem', 'Contact and the book', 'Hallelujah', 'The Old Man', 'Kindle', 'The Mind’s Eye', 'The Piano Man Nice', 'Incognito', 'Invisible Cities', 'The Birth and Death of Meaning', 'Decline of the West', 'Clock Without Hands', 'Escape from Freedom', 'In the Name of Identity, Violence and the Need to Belong', 'The Denial of Death', 'The Mind', 'The Giver', 'The Bottom Line', 'Top Gun', 'a Wonderful Life', 'Superintelligence', 'Cosmos', 'A Quadratic Payments']) \n",
      "\n",
      "dict_keys(['Titling Real I.', 'The Will to Power', 'Star Trek', 'Attention Is All You Need', 'The Virtues of War', 'Holocaust', 'A Love of Math', 'A Short History of Nearly Everything', 'Denial of Death', 'Bible', 'Girls Incompleteness Theorem', 'The Ominous Parallels', 'The Virtue of Selfishness', 'Atlas Shrugged', 'Anthem', 'The King of Kings', 'Jonathan Livingston Seagull', 'Whiplash', 'Deep Learning', 'Enlightenment Now', 'Deep Work', 'Nobel', 'the Life You Can Save', 'The Concept of Mind', 'UNIX', 'The Scientist in the Crib', 'the Book of Job', 'Can A Scientist Believe in Miracles', 'The Worldly Philosophers', 'Hitchhiker’s Guide', 'Write Me a Poem', 'Contact and the book', 'Hallelujah', 'The Old Man', 'Kindle', 'The Mind’s Eye', 'The Piano Man Nice', 'Incognito', 'Invisible Cities', 'The Birth and Death of Meaning', 'Decline of the West', 'Clock Without Hands', 'Escape from Freedom', 'In the Name of Identity, Violence and the Need to Belong', 'The Mind', 'The Giver', 'The Bottom Line', 'Top Gun', 'a Wonderful Life', 'Superintelligence', 'Cosmos', 'A Quadratic Payments'])\n"
     ]
    }
   ],
   "source": [
    "all_attributes=dict([(x, [x]) for x in all_atts]) #dictionary of books to become key is base book, value are similar titles\n",
    "i = 0\n",
    "#     similar_words implement dictionary to store similar words that were deleted\n",
    "while i<len(all_attributes)-1: #remove similar or subwords\n",
    "    str1, str2 = all_atts[i], all_atts[i+1]\n",
    "    if str2 in str1 or (SequenceMatcher(a=str1,b=str2).ratio()>.8 and len(str1)>len(str2)):\n",
    "        print(\"1\", str1, str2)\n",
    "        toRemove = all_attributes.get(str2) #list of similar words moving\n",
    "        toKeep =  all_attributes.get(str1)\n",
    "\n",
    "        try:\n",
    "            print(all_attributes.keys(),\"\\n\")\n",
    "            del all_attributes[str1]\n",
    "            print(all_attributes.keys())\n",
    "        except:\n",
    "            print(\"rip\")\n",
    "            pass\n",
    "        all_attributes[str1] = toRemove+toKeep\n",
    "    elif str1 in str2 or (SequenceMatcher(a=str1,b=str2).ratio()>.8 and len(str1)<=len(str2)):\n",
    "        print(\"2\",str1, str2)\n",
    "        toRemove = all_attributes.get(str1) #list of similar words moving\n",
    "        toKeep =  all_attributes.get(str2)\n",
    "        try:\n",
    "            del all_attributes[str2]\n",
    "        except:\n",
    "            pass\n",
    "        all_attributes[str2] = toRemove+toKeep\n",
    "\n",
    "    i+=1"
   ]
  },
  {
   "cell_type": "code",
   "execution_count": 65,
   "metadata": {},
   "outputs": [
    {
     "data": {
      "text/plain": [
       "{'Titling Real I.': ['Titling Real I.'],\n",
       " 'The Will to Power': ['The Will to Power'],\n",
       " 'Star Trek': ['Star Trek'],\n",
       " 'Attention Is All You Need': ['Attention Is All You Need'],\n",
       " 'The Virtues of War': ['The Virtues of War'],\n",
       " 'Holocaust': ['Holocaust'],\n",
       " 'A Love of Math': ['A Love of Math'],\n",
       " 'A Short History of Nearly Everything': ['A Short History of Nearly Everything'],\n",
       " 'Denial of Death': ['Denial of Death'],\n",
       " 'Bible': ['Bible'],\n",
       " 'Girls Incompleteness Theorem': ['Girls Incompleteness Theorem'],\n",
       " 'The Ominous Parallels': ['The Ominous Parallels'],\n",
       " 'The Virtue of Selfishness': ['The Virtue of Selfishness'],\n",
       " 'Atlas Shrugged': ['Atlas Shrugged'],\n",
       " 'Anthem': ['Anthem'],\n",
       " 'The King of Kings': ['The King of Kings'],\n",
       " 'Jonathan Livingston Seagull': ['Jonathan Livingston Seagull'],\n",
       " 'Whiplash': ['Whiplash'],\n",
       " 'Deep Learning': ['Deep Learning'],\n",
       " 'Enlightenment Now': ['Enlightenment Now'],\n",
       " 'Deep Work': ['Deep Work'],\n",
       " 'Nobel': ['Nobel'],\n",
       " 'the Life You Can Save': ['the Life You Can Save'],\n",
       " 'The Concept of Mind': ['The Concept of Mind'],\n",
       " 'UNIX': ['UNIX'],\n",
       " 'The Scientist in the Crib': ['The Scientist in the Crib'],\n",
       " 'the Book of Job': ['the Book of Job'],\n",
       " 'Can A Scientist Believe in Miracles': ['Can A Scientist Believe in Miracles'],\n",
       " 'The Worldly Philosophers': ['The Worldly Philosophers'],\n",
       " 'Hitchhiker’s Guide': ['Hitchhiker’s Guide'],\n",
       " 'Write Me a Poem': ['Write Me a Poem'],\n",
       " 'Contact and the book': ['Contact and the book'],\n",
       " 'Hallelujah': ['Hallelujah'],\n",
       " 'The Old Man': ['The Old Man'],\n",
       " 'Kindle': ['Kindle'],\n",
       " 'The Mind’s Eye': ['The Mind’s Eye'],\n",
       " 'The Piano Man Nice': ['The Piano Man Nice'],\n",
       " 'Incognito': ['Incognito'],\n",
       " 'Invisible Cities': ['Invisible Cities'],\n",
       " 'The Birth and Death of Meaning': ['The Birth and Death of Meaning'],\n",
       " 'Decline of the West': ['Decline of the West'],\n",
       " 'Clock Without Hands': ['Clock Without Hands'],\n",
       " 'Escape from Freedom': ['Escape from Freedom'],\n",
       " 'In the Name of Identity, Violence and the Need to Belong': ['In the Name of Identity, Violence and the Need to Belong'],\n",
       " 'The Mind': ['The Mind'],\n",
       " 'The Giver': ['The Giver'],\n",
       " 'The Bottom Line': ['The Bottom Line'],\n",
       " 'Top Gun': ['Top Gun'],\n",
       " 'a Wonderful Life': ['a Wonderful Life'],\n",
       " 'Superintelligence': ['Superintelligence'],\n",
       " 'Cosmos': ['Cosmos'],\n",
       " 'A Quadratic Payments': ['A Quadratic Payments'],\n",
       " 'The Denial of Death': ['Denial of Death', 'The Denial of Death']}"
      ]
     },
     "execution_count": 65,
     "metadata": {},
     "output_type": "execute_result"
    }
   ],
   "source": [
    "all_attributes"
   ]
  },
  {
   "cell_type": "code",
   "execution_count": null,
   "metadata": {},
   "outputs": [],
   "source": [
    "for ind, doc in enumerate(list(collection.find({}, {\"books\", \"guest\"}))):\n",
    "    print(doc)"
   ]
  },
  {
   "cell_type": "code",
   "execution_count": null,
   "metadata": {},
   "outputs": [],
   "source": [
    "for ind, doc in enumerate(list(collection.find({}, {\"books\", \"guest\"}))):\n",
    "    print(doc)"
   ]
  },
  {
   "cell_type": "code",
   "execution_count": null,
   "metadata": {},
   "outputs": [],
   "source": [
    "%%time\n",
    "doc = nlp(open(\"3Lex/#101|Joscha_Bach|Artificial_Consciousness_and_the_Nature_of_Reality.txt\").read())\n",
    "\n",
    "print(doc.user_data.keys())"
   ]
  },
  {
   "cell_type": "code",
   "execution_count": null,
   "metadata": {},
   "outputs": [],
   "source": [
    "print(list(collection.find({\"guest\":\"Ben Goertzel\"})))"
   ]
  },
  {
   "cell_type": "code",
   "execution_count": null,
   "metadata": {},
   "outputs": [],
   "source": [
    "for arr in collection.find({},{\"places\":1}):\n",
    "    print(arr)"
   ]
  },
  {
   "cell_type": "code",
   "execution_count": null,
   "metadata": {},
   "outputs": [],
   "source": [
    "db[\"lex\"].insert_one(\n",
    "    {\"item\":\"Manolis\", \"title\":\"Origin of life\", \"topics\":[\"life\", \"suffering\", \"happiness\"]}\n",
    ")"
   ]
  },
  {
   "cell_type": "code",
   "execution_count": null,
   "metadata": {},
   "outputs": [],
   "source": [
    "collection.delete_one({\"item\":\"Manolis\"})"
   ]
  },
  {
   "cell_type": "code",
   "execution_count": null,
   "metadata": {},
   "outputs": [],
   "source": [
    "results = collection.find({\"title\":\"Origin of life\"})\n",
    "for result in results:\n",
    "    print(result)"
   ]
  },
  {
   "cell_type": "code",
   "execution_count": null,
   "metadata": {},
   "outputs": [],
   "source": [
    "dictionary, model = generate_model(\"black.txt\", 2700)\n",
    "one_topic_confi = load_confidences(\"black.txt\", dictionary, model, sents, basic_completion) #generate initial topics + confidences, then smooth by filling in empty values and averaging\n",
    "\n",
    "\n",
    "algo_stamps = get_algo_timestamps(one_topic_confi) #algo generated timestamps\n",
    "stamp_summaries = get_stamp_summaries(algo_stamps, sents)"
   ]
  }
 ],
 "metadata": {
  "kernelspec": {
   "display_name": "python38",
   "language": "python",
   "name": "python38"
  },
  "language_info": {
   "codemirror_mode": {
    "name": "ipython",
    "version": 3
   },
   "file_extension": ".py",
   "mimetype": "text/x-python",
   "name": "python",
   "nbconvert_exporter": "python",
   "pygments_lexer": "ipython3",
   "version": "3.8.2"
  }
 },
 "nbformat": 4,
 "nbformat_minor": 4
}
